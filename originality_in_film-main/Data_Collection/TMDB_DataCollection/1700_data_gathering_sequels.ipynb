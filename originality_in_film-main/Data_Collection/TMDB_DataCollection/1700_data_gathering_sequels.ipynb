{
 "cells": [
  {
   "cell_type": "markdown",
   "id": "87f35eb0",
   "metadata": {},
   "source": [
    "## This notebook uses the movie sequel data scraped from wikipedia to find the corresponding original films and data for the movies"
   ]
  },
  {
   "cell_type": "code",
   "execution_count": 5,
   "id": "4696b9d5",
   "metadata": {},
   "outputs": [],
   "source": [
    "import urllib.request\n",
    "import json\n",
    "import pandas as pd\n",
    "from datetime import datetime\n",
    "import numpy as np\n",
    "from loguru import logger\n",
    "from IPython.display import clear_output\n",
    "import requests\n",
    "import re\n",
    "from scipy import stats\n",
    "\n",
    "tmdb_key = \"ad63716b3506edd1aaa3aef6c8ebd46b\"\n",
    "\n",
    "pd.options.mode.chained_assignment = None  # default='warn'"
   ]
  },
  {
   "cell_type": "code",
   "execution_count": 6,
   "id": "e5c7fd49",
   "metadata": {},
   "outputs": [
    {
     "data": {
      "text/html": [
       "<div>\n",
       "<style scoped>\n",
       "    .dataframe tbody tr th:only-of-type {\n",
       "        vertical-align: middle;\n",
       "    }\n",
       "\n",
       "    .dataframe tbody tr th {\n",
       "        vertical-align: top;\n",
       "    }\n",
       "\n",
       "    .dataframe thead th {\n",
       "        text-align: right;\n",
       "    }\n",
       "</style>\n",
       "<table border=\"1\" class=\"dataframe\">\n",
       "  <thead>\n",
       "    <tr style=\"text-align: right;\">\n",
       "      <th></th>\n",
       "      <th>item</th>\n",
       "      <th>title</th>\n",
       "      <th>imdb</th>\n",
       "    </tr>\n",
       "  </thead>\n",
       "  <tbody>\n",
       "    <tr>\n",
       "      <th>0</th>\n",
       "      <td>http://www.wikidata.org/entity/Q36951175</td>\n",
       "      <td>Mamma Mia! Here We Go Again</td>\n",
       "      <td>tt6911608</td>\n",
       "    </tr>\n",
       "    <tr>\n",
       "      <th>1</th>\n",
       "      <td>http://www.wikidata.org/entity/Q104814</td>\n",
       "      <td>Aliens (film)</td>\n",
       "      <td>tt0090605</td>\n",
       "    </tr>\n",
       "    <tr>\n",
       "      <th>2</th>\n",
       "      <td>http://www.wikidata.org/entity/Q106571</td>\n",
       "      <td>From Russia with Love (film)</td>\n",
       "      <td>tt0057076</td>\n",
       "    </tr>\n",
       "    <tr>\n",
       "      <th>3</th>\n",
       "      <td>http://www.wikidata.org/entity/Q108543</td>\n",
       "      <td>Alien 3</td>\n",
       "      <td>tt0103644</td>\n",
       "    </tr>\n",
       "    <tr>\n",
       "      <th>4</th>\n",
       "      <td>http://www.wikidata.org/entity/Q116928</td>\n",
       "      <td>The Twilight Saga: New Moon</td>\n",
       "      <td>tt1259571</td>\n",
       "    </tr>\n",
       "    <tr>\n",
       "      <th>...</th>\n",
       "      <td>...</td>\n",
       "      <td>...</td>\n",
       "      <td>...</td>\n",
       "    </tr>\n",
       "    <tr>\n",
       "      <th>2896</th>\n",
       "      <td>http://www.wikidata.org/entity/Q56877293</td>\n",
       "      <td>Money Trap</td>\n",
       "      <td>tt8442644</td>\n",
       "    </tr>\n",
       "    <tr>\n",
       "      <th>2897</th>\n",
       "      <td>item</td>\n",
       "      <td>title</td>\n",
       "      <td>imdb</td>\n",
       "    </tr>\n",
       "    <tr>\n",
       "      <th>2898</th>\n",
       "      <td>http://www.wikidata.org/entity/Q19893083</td>\n",
       "      <td>Let Hoi Decide</td>\n",
       "      <td>tt3701078</td>\n",
       "    </tr>\n",
       "    <tr>\n",
       "      <th>2899</th>\n",
       "      <td>http://www.wikidata.org/entity/Q10841742</td>\n",
       "      <td>Fool for Love (2010 film)</td>\n",
       "      <td>tt1630038</td>\n",
       "    </tr>\n",
       "    <tr>\n",
       "      <th>2900</th>\n",
       "      <td>\u001a</td>\n",
       "      <td>NaN</td>\n",
       "      <td>NaN</td>\n",
       "    </tr>\n",
       "  </tbody>\n",
       "</table>\n",
       "<p>2901 rows × 3 columns</p>\n",
       "</div>"
      ],
      "text/plain": [
       "                                          item                         title  \\\n",
       "0     http://www.wikidata.org/entity/Q36951175   Mamma Mia! Here We Go Again   \n",
       "1       http://www.wikidata.org/entity/Q104814                 Aliens (film)   \n",
       "2       http://www.wikidata.org/entity/Q106571  From Russia with Love (film)   \n",
       "3       http://www.wikidata.org/entity/Q108543                       Alien 3   \n",
       "4       http://www.wikidata.org/entity/Q116928   The Twilight Saga: New Moon   \n",
       "...                                        ...                           ...   \n",
       "2896  http://www.wikidata.org/entity/Q56877293                    Money Trap   \n",
       "2897                                      item                         title   \n",
       "2898  http://www.wikidata.org/entity/Q19893083                Let Hoi Decide   \n",
       "2899  http://www.wikidata.org/entity/Q10841742     Fool for Love (2010 film)   \n",
       "2900                                         \u001a                           NaN   \n",
       "\n",
       "           imdb  \n",
       "0     tt6911608  \n",
       "1     tt0090605  \n",
       "2     tt0057076  \n",
       "3     tt0103644  \n",
       "4     tt1259571  \n",
       "...         ...  \n",
       "2896  tt8442644  \n",
       "2897       imdb  \n",
       "2898  tt3701078  \n",
       "2899  tt1630038  \n",
       "2900        NaN  \n",
       "\n",
       "[2901 rows x 3 columns]"
      ]
     },
     "execution_count": 6,
     "metadata": {},
     "output_type": "execute_result"
    }
   ],
   "source": [
    "df = pd.read_csv(\"SequelIMDBlinks.csv\")\n",
    "df"
   ]
  },
  {
   "cell_type": "markdown",
   "id": "894d386c",
   "metadata": {},
   "source": [
    "Cleaning the dataframe removing some unwanted values. "
   ]
  },
  {
   "cell_type": "code",
   "execution_count": null,
   "id": "69499b61",
   "metadata": {},
   "outputs": [],
   "source": [
    "df = df.drop([\"item\"], axis='columns')"
   ]
  },
  {
   "cell_type": "code",
   "execution_count": 7,
   "id": "a637c960",
   "metadata": {},
   "outputs": [
    {
     "data": {
      "text/plain": [
       "8589"
      ]
     },
     "execution_count": 7,
     "metadata": {},
     "output_type": "execute_result"
    }
   ],
   "source": [
    "df = df[df[\"imdb\"] != \"imdb\"]\n",
    "df = df.dropna()\n",
    "df.size"
   ]
  },
  {
   "cell_type": "markdown",
   "id": "9839c479",
   "metadata": {},
   "source": [
    "Remove movies with the same IMDb id."
   ]
  },
  {
   "cell_type": "code",
   "execution_count": 8,
   "id": "4e03a7a9",
   "metadata": {},
   "outputs": [
    {
     "data": {
      "text/plain": [
       "7875"
      ]
     },
     "execution_count": 8,
     "metadata": {},
     "output_type": "execute_result"
    }
   ],
   "source": [
    "df = df[~df.duplicated(subset=[\"imdb\"])]\n",
    "df.size"
   ]
  },
  {
   "cell_type": "markdown",
   "id": "1aff0203",
   "metadata": {},
   "source": [
    "These functions take in a json and returns the specified data."
   ]
  },
  {
   "cell_type": "code",
   "execution_count": 9,
   "id": "e3332fad",
   "metadata": {},
   "outputs": [],
   "source": [
    "def get_tmdb_id(json_data):\n",
    "    try:\n",
    "        return json_data[\"movie_results\"][0][\"id\"]\n",
    "    except:\n",
    "        return None\n",
    "\n",
    "def get_collection_id(json_data):\n",
    "    try:\n",
    "        return json_data[\"belongs_to_collection\"][\"id\"]\n",
    "    except:\n",
    "        return None\n",
    "\n",
    "def get_original_movie(json_data):\n",
    "    try:\n",
    "        # gets the release date of the first movie in the collection and turns it into a datetime \n",
    "        oldest_movie = json_data[\"parts\"][0]\n",
    "        oldest_movie_date = datetime.strptime(oldest_movie[\"release_date\"].replace(\"-\",\"/\"), '%Y/%m/%d')\n",
    "\n",
    "        # goes through the rest of the movies in the collection checking if their are any earlier movies.\n",
    "        for movie in json_data[\"parts\"][1:]:\n",
    "            try:\n",
    "                movie_date = datetime.strptime(movie[\"release_date\"].replace(\"-\",\"/\"), '%Y/%m/%d')\n",
    "                if(oldest_movie_date > movie_date):\n",
    "                    oldest_movie = movie\n",
    "                    oldest_movie_date = movie_date\n",
    "            # if there is a problem with the release_date (eg it is missing) then skip it        \n",
    "            except:\n",
    "                continue\n",
    "        # returns the id of the original movie or Nonw        \n",
    "        original_movie_id = oldest_movie[\"id\"]\n",
    "        return str(original_movie_id)\n",
    "    except:\n",
    "        return None\n",
    "    \n",
    "def get_original_movie_name(json_data):\n",
    "    try:\n",
    "        return json_data[\"title\"]\n",
    "    except:\n",
    "        return None\n",
    "    \n",
    "def get_original_movie_id(json_data):\n",
    "    try:\n",
    "        return json_data[\"imdb_id\"]\n",
    "    except:\n",
    "        return None    "
   ]
  },
  {
   "cell_type": "markdown",
   "id": "15963395",
   "metadata": {},
   "source": [
    "\"get_data\" searches for a movie in tmdb using the movie's imdb id."
   ]
  },
  {
   "cell_type": "code",
   "execution_count": 10,
   "id": "4a4be3b3",
   "metadata": {},
   "outputs": [],
   "source": [
    "def get_data(prefix, get_json_fun):\n",
    "    movie_json = fetch(prefix, {\"external_source\":\"imdb_id\"})\n",
    "    data = get_json_fun(movie_json)\n",
    "    return str(data)"
   ]
  },
  {
   "cell_type": "markdown",
   "id": "b34a42ab",
   "metadata": {},
   "source": [
    "Uses the tmdb api to a json."
   ]
  },
  {
   "cell_type": "code",
   "execution_count": 11,
   "id": "b66f78dd",
   "metadata": {},
   "outputs": [],
   "source": [
    "def fetch(endpoint, params={}):\n",
    "    # construct the url\n",
    "    api_prefix = \"https://api.themoviedb.org/3\"\n",
    "    url = api_prefix\n",
    "    \n",
    "    if not endpoint.startswith(\"/\"):\n",
    "        url += \"/\"\n",
    "    \n",
    "    url += endpoint\n",
    "    \n",
    "    params[\"api_key\"] = tmdb_key\n",
    "    url += \"?\" + urllib.parse.urlencode(params)\n",
    "    #clear.output()\n",
    "    clear_output()\n",
    "    logger.info(url)\n",
    "\n",
    "    try:\n",
    "        response = urllib.request.urlopen(url)\n",
    "        raw_json = response.read().decode(\"utf-8\")    \n",
    "        return json.loads(raw_json)\n",
    "    # if an error occured return None \n",
    "    except:\n",
    "        return None"
   ]
  },
  {
   "cell_type": "markdown",
   "id": "f0d0d2e2",
   "metadata": {},
   "source": [
    "Using a column in our dataframe, search the tmdb api for a specific item using one of our \"get\" functions from earlier and adds the data to a new  column."
   ]
  },
  {
   "cell_type": "code",
   "execution_count": 12,
   "id": "016c90bd",
   "metadata": {},
   "outputs": [],
   "source": [
    "def add_new_col_to_df(df, prefix, existing_df_col_name, get_json_fun, new_col_name):\n",
    "    df[new_col_name] = df.apply(lambda x: get_data(prefix + x[existing_df_col_name], get_json_fun), axis =1)\n",
    "    df = df.dropna()\n",
    "    return df"
   ]
  },
  {
   "cell_type": "markdown",
   "id": "ae246464",
   "metadata": {},
   "source": [
    "First we add the tmdb ID for each movie. This will be crucial for searching the tmdb api in future queries."
   ]
  },
  {
   "cell_type": "code",
   "execution_count": 13,
   "id": "2174e12f",
   "metadata": {},
   "outputs": [
    {
     "name": "stderr",
     "output_type": "stream",
     "text": [
      "2023-05-18 14:42:06.156 | INFO     | __main__:fetch:15 - https://api.themoviedb.org/3/find/tt1630038?external_source=imdb_id&api_key=ad63716b3506edd1aaa3aef6c8ebd46b\n"
     ]
    },
    {
     "data": {
      "text/html": [
       "<div>\n",
       "<style scoped>\n",
       "    .dataframe tbody tr th:only-of-type {\n",
       "        vertical-align: middle;\n",
       "    }\n",
       "\n",
       "    .dataframe tbody tr th {\n",
       "        vertical-align: top;\n",
       "    }\n",
       "\n",
       "    .dataframe thead th {\n",
       "        text-align: right;\n",
       "    }\n",
       "</style>\n",
       "<table border=\"1\" class=\"dataframe\">\n",
       "  <thead>\n",
       "    <tr style=\"text-align: right;\">\n",
       "      <th></th>\n",
       "      <th>item</th>\n",
       "      <th>title</th>\n",
       "      <th>imdb</th>\n",
       "      <th>tmdb_id</th>\n",
       "    </tr>\n",
       "  </thead>\n",
       "  <tbody>\n",
       "    <tr>\n",
       "      <th>0</th>\n",
       "      <td>http://www.wikidata.org/entity/Q36951175</td>\n",
       "      <td>Mamma Mia! Here We Go Again</td>\n",
       "      <td>tt6911608</td>\n",
       "      <td>458423</td>\n",
       "    </tr>\n",
       "    <tr>\n",
       "      <th>1</th>\n",
       "      <td>http://www.wikidata.org/entity/Q104814</td>\n",
       "      <td>Aliens (film)</td>\n",
       "      <td>tt0090605</td>\n",
       "      <td>679</td>\n",
       "    </tr>\n",
       "    <tr>\n",
       "      <th>2</th>\n",
       "      <td>http://www.wikidata.org/entity/Q106571</td>\n",
       "      <td>From Russia with Love (film)</td>\n",
       "      <td>tt0057076</td>\n",
       "      <td>657</td>\n",
       "    </tr>\n",
       "    <tr>\n",
       "      <th>3</th>\n",
       "      <td>http://www.wikidata.org/entity/Q108543</td>\n",
       "      <td>Alien 3</td>\n",
       "      <td>tt0103644</td>\n",
       "      <td>8077</td>\n",
       "    </tr>\n",
       "    <tr>\n",
       "      <th>4</th>\n",
       "      <td>http://www.wikidata.org/entity/Q116928</td>\n",
       "      <td>The Twilight Saga: New Moon</td>\n",
       "      <td>tt1259571</td>\n",
       "      <td>18239</td>\n",
       "    </tr>\n",
       "  </tbody>\n",
       "</table>\n",
       "</div>"
      ],
      "text/plain": [
       "                                       item                         title  \\\n",
       "0  http://www.wikidata.org/entity/Q36951175   Mamma Mia! Here We Go Again   \n",
       "1    http://www.wikidata.org/entity/Q104814                 Aliens (film)   \n",
       "2    http://www.wikidata.org/entity/Q106571  From Russia with Love (film)   \n",
       "3    http://www.wikidata.org/entity/Q108543                       Alien 3   \n",
       "4    http://www.wikidata.org/entity/Q116928   The Twilight Saga: New Moon   \n",
       "\n",
       "        imdb tmdb_id  \n",
       "0  tt6911608  458423  \n",
       "1  tt0090605     679  \n",
       "2  tt0057076     657  \n",
       "3  tt0103644    8077  \n",
       "4  tt1259571   18239  "
      ]
     },
     "execution_count": 13,
     "metadata": {},
     "output_type": "execute_result"
    }
   ],
   "source": [
    "df = add_new_col_to_df(df, \"/find/\", \"imdb\", get_tmdb_id, \"tmdb_id\")\n",
    "df.head()"
   ]
  },
  {
   "cell_type": "markdown",
   "id": "16b226cf",
   "metadata": {},
   "source": [
    "A collection in TMDB is a list of related movies. We can use this to find the original movie for a sequel."
   ]
  },
  {
   "cell_type": "code",
   "execution_count": 14,
   "id": "f138186f",
   "metadata": {},
   "outputs": [
    {
     "name": "stderr",
     "output_type": "stream",
     "text": [
      "2023-05-18 14:49:24.978 | INFO     | __main__:fetch:15 - https://api.themoviedb.org/3/movie/138969?external_source=imdb_id&api_key=ad63716b3506edd1aaa3aef6c8ebd46b\n"
     ]
    },
    {
     "data": {
      "text/html": [
       "<div>\n",
       "<style scoped>\n",
       "    .dataframe tbody tr th:only-of-type {\n",
       "        vertical-align: middle;\n",
       "    }\n",
       "\n",
       "    .dataframe tbody tr th {\n",
       "        vertical-align: top;\n",
       "    }\n",
       "\n",
       "    .dataframe thead th {\n",
       "        text-align: right;\n",
       "    }\n",
       "</style>\n",
       "<table border=\"1\" class=\"dataframe\">\n",
       "  <thead>\n",
       "    <tr style=\"text-align: right;\">\n",
       "      <th></th>\n",
       "      <th>item</th>\n",
       "      <th>title</th>\n",
       "      <th>imdb</th>\n",
       "      <th>tmdb_id</th>\n",
       "      <th>collection_id</th>\n",
       "    </tr>\n",
       "  </thead>\n",
       "  <tbody>\n",
       "    <tr>\n",
       "      <th>0</th>\n",
       "      <td>http://www.wikidata.org/entity/Q36951175</td>\n",
       "      <td>Mamma Mia! Here We Go Again</td>\n",
       "      <td>tt6911608</td>\n",
       "      <td>458423</td>\n",
       "      <td>458558</td>\n",
       "    </tr>\n",
       "    <tr>\n",
       "      <th>1</th>\n",
       "      <td>http://www.wikidata.org/entity/Q104814</td>\n",
       "      <td>Aliens (film)</td>\n",
       "      <td>tt0090605</td>\n",
       "      <td>679</td>\n",
       "      <td>8091</td>\n",
       "    </tr>\n",
       "    <tr>\n",
       "      <th>2</th>\n",
       "      <td>http://www.wikidata.org/entity/Q106571</td>\n",
       "      <td>From Russia with Love (film)</td>\n",
       "      <td>tt0057076</td>\n",
       "      <td>657</td>\n",
       "      <td>645</td>\n",
       "    </tr>\n",
       "    <tr>\n",
       "      <th>3</th>\n",
       "      <td>http://www.wikidata.org/entity/Q108543</td>\n",
       "      <td>Alien 3</td>\n",
       "      <td>tt0103644</td>\n",
       "      <td>8077</td>\n",
       "      <td>8091</td>\n",
       "    </tr>\n",
       "    <tr>\n",
       "      <th>4</th>\n",
       "      <td>http://www.wikidata.org/entity/Q116928</td>\n",
       "      <td>The Twilight Saga: New Moon</td>\n",
       "      <td>tt1259571</td>\n",
       "      <td>18239</td>\n",
       "      <td>33514</td>\n",
       "    </tr>\n",
       "  </tbody>\n",
       "</table>\n",
       "</div>"
      ],
      "text/plain": [
       "                                       item                         title  \\\n",
       "0  http://www.wikidata.org/entity/Q36951175   Mamma Mia! Here We Go Again   \n",
       "1    http://www.wikidata.org/entity/Q104814                 Aliens (film)   \n",
       "2    http://www.wikidata.org/entity/Q106571  From Russia with Love (film)   \n",
       "3    http://www.wikidata.org/entity/Q108543                       Alien 3   \n",
       "4    http://www.wikidata.org/entity/Q116928   The Twilight Saga: New Moon   \n",
       "\n",
       "        imdb tmdb_id collection_id  \n",
       "0  tt6911608  458423        458558  \n",
       "1  tt0090605     679          8091  \n",
       "2  tt0057076     657           645  \n",
       "3  tt0103644    8077          8091  \n",
       "4  tt1259571   18239         33514  "
      ]
     },
     "execution_count": 14,
     "metadata": {},
     "output_type": "execute_result"
    }
   ],
   "source": [
    "df = add_new_col_to_df(df, \"/movie/\", \"tmdb_id\", get_collection_id, \"collection_id\")\n",
    "df.head()"
   ]
  },
  {
   "cell_type": "markdown",
   "id": "4d33020a",
   "metadata": {},
   "source": [
    "Adding a new column with the tmdb ID for each original movie to the sequel. The original movie is the oldest movie in the collection."
   ]
  },
  {
   "cell_type": "code",
   "execution_count": 15,
   "id": "ab0b2f2a",
   "metadata": {},
   "outputs": [
    {
     "name": "stderr",
     "output_type": "stream",
     "text": [
      "2023-05-18 14:54:48.566 | INFO     | __main__:fetch:15 - https://api.themoviedb.org/3/collection/390205?external_source=imdb_id&api_key=ad63716b3506edd1aaa3aef6c8ebd46b\n"
     ]
    },
    {
     "data": {
      "text/html": [
       "<div>\n",
       "<style scoped>\n",
       "    .dataframe tbody tr th:only-of-type {\n",
       "        vertical-align: middle;\n",
       "    }\n",
       "\n",
       "    .dataframe tbody tr th {\n",
       "        vertical-align: top;\n",
       "    }\n",
       "\n",
       "    .dataframe thead th {\n",
       "        text-align: right;\n",
       "    }\n",
       "</style>\n",
       "<table border=\"1\" class=\"dataframe\">\n",
       "  <thead>\n",
       "    <tr style=\"text-align: right;\">\n",
       "      <th></th>\n",
       "      <th>item</th>\n",
       "      <th>title</th>\n",
       "      <th>imdb</th>\n",
       "      <th>tmdb_id</th>\n",
       "      <th>collection_id</th>\n",
       "      <th>original_movie_id</th>\n",
       "    </tr>\n",
       "  </thead>\n",
       "  <tbody>\n",
       "    <tr>\n",
       "      <th>0</th>\n",
       "      <td>http://www.wikidata.org/entity/Q36951175</td>\n",
       "      <td>Mamma Mia! Here We Go Again</td>\n",
       "      <td>tt6911608</td>\n",
       "      <td>458423</td>\n",
       "      <td>458558</td>\n",
       "      <td>11631</td>\n",
       "    </tr>\n",
       "    <tr>\n",
       "      <th>1</th>\n",
       "      <td>http://www.wikidata.org/entity/Q104814</td>\n",
       "      <td>Aliens (film)</td>\n",
       "      <td>tt0090605</td>\n",
       "      <td>679</td>\n",
       "      <td>8091</td>\n",
       "      <td>348</td>\n",
       "    </tr>\n",
       "    <tr>\n",
       "      <th>2</th>\n",
       "      <td>http://www.wikidata.org/entity/Q106571</td>\n",
       "      <td>From Russia with Love (film)</td>\n",
       "      <td>tt0057076</td>\n",
       "      <td>657</td>\n",
       "      <td>645</td>\n",
       "      <td>646</td>\n",
       "    </tr>\n",
       "    <tr>\n",
       "      <th>3</th>\n",
       "      <td>http://www.wikidata.org/entity/Q108543</td>\n",
       "      <td>Alien 3</td>\n",
       "      <td>tt0103644</td>\n",
       "      <td>8077</td>\n",
       "      <td>8091</td>\n",
       "      <td>348</td>\n",
       "    </tr>\n",
       "    <tr>\n",
       "      <th>4</th>\n",
       "      <td>http://www.wikidata.org/entity/Q116928</td>\n",
       "      <td>The Twilight Saga: New Moon</td>\n",
       "      <td>tt1259571</td>\n",
       "      <td>18239</td>\n",
       "      <td>33514</td>\n",
       "      <td>8966</td>\n",
       "    </tr>\n",
       "  </tbody>\n",
       "</table>\n",
       "</div>"
      ],
      "text/plain": [
       "                                       item                         title  \\\n",
       "0  http://www.wikidata.org/entity/Q36951175   Mamma Mia! Here We Go Again   \n",
       "1    http://www.wikidata.org/entity/Q104814                 Aliens (film)   \n",
       "2    http://www.wikidata.org/entity/Q106571  From Russia with Love (film)   \n",
       "3    http://www.wikidata.org/entity/Q108543                       Alien 3   \n",
       "4    http://www.wikidata.org/entity/Q116928   The Twilight Saga: New Moon   \n",
       "\n",
       "        imdb tmdb_id collection_id original_movie_id  \n",
       "0  tt6911608  458423        458558             11631  \n",
       "1  tt0090605     679          8091               348  \n",
       "2  tt0057076     657           645               646  \n",
       "3  tt0103644    8077          8091               348  \n",
       "4  tt1259571   18239         33514              8966  "
      ]
     },
     "execution_count": 15,
     "metadata": {},
     "output_type": "execute_result"
    }
   ],
   "source": [
    "df = add_new_col_to_df(df, \"/collection/\", \"collection_id\", get_original_movie, \"original_movie_id\")\n",
    "df.head()"
   ]
  },
  {
   "cell_type": "markdown",
   "id": "b94f9edc",
   "metadata": {},
   "source": [
    "Adds the title of the original movie."
   ]
  },
  {
   "cell_type": "code",
   "execution_count": 17,
   "id": "00367381",
   "metadata": {},
   "outputs": [
    {
     "name": "stderr",
     "output_type": "stream",
     "text": [
      "2023-05-18 15:00:08.368 | INFO     | __main__:fetch:15 - https://api.themoviedb.org/3/movie/138969?external_source=imdb_id&api_key=ad63716b3506edd1aaa3aef6c8ebd46b\n"
     ]
    },
    {
     "data": {
      "text/html": [
       "<div>\n",
       "<style scoped>\n",
       "    .dataframe tbody tr th:only-of-type {\n",
       "        vertical-align: middle;\n",
       "    }\n",
       "\n",
       "    .dataframe tbody tr th {\n",
       "        vertical-align: top;\n",
       "    }\n",
       "\n",
       "    .dataframe thead th {\n",
       "        text-align: right;\n",
       "    }\n",
       "</style>\n",
       "<table border=\"1\" class=\"dataframe\">\n",
       "  <thead>\n",
       "    <tr style=\"text-align: right;\">\n",
       "      <th></th>\n",
       "      <th>item</th>\n",
       "      <th>title</th>\n",
       "      <th>imdb</th>\n",
       "      <th>tmdb_id</th>\n",
       "      <th>collection_id</th>\n",
       "      <th>original_movie_id</th>\n",
       "      <th>original_movie_name</th>\n",
       "    </tr>\n",
       "  </thead>\n",
       "  <tbody>\n",
       "    <tr>\n",
       "      <th>0</th>\n",
       "      <td>http://www.wikidata.org/entity/Q36951175</td>\n",
       "      <td>Mamma Mia! Here We Go Again</td>\n",
       "      <td>tt6911608</td>\n",
       "      <td>458423</td>\n",
       "      <td>458558</td>\n",
       "      <td>11631</td>\n",
       "      <td>Mamma Mia!</td>\n",
       "    </tr>\n",
       "    <tr>\n",
       "      <th>1</th>\n",
       "      <td>http://www.wikidata.org/entity/Q104814</td>\n",
       "      <td>Aliens (film)</td>\n",
       "      <td>tt0090605</td>\n",
       "      <td>679</td>\n",
       "      <td>8091</td>\n",
       "      <td>348</td>\n",
       "      <td>Alien</td>\n",
       "    </tr>\n",
       "    <tr>\n",
       "      <th>2</th>\n",
       "      <td>http://www.wikidata.org/entity/Q106571</td>\n",
       "      <td>From Russia with Love (film)</td>\n",
       "      <td>tt0057076</td>\n",
       "      <td>657</td>\n",
       "      <td>645</td>\n",
       "      <td>646</td>\n",
       "      <td>Dr. No</td>\n",
       "    </tr>\n",
       "    <tr>\n",
       "      <th>3</th>\n",
       "      <td>http://www.wikidata.org/entity/Q108543</td>\n",
       "      <td>Alien 3</td>\n",
       "      <td>tt0103644</td>\n",
       "      <td>8077</td>\n",
       "      <td>8091</td>\n",
       "      <td>348</td>\n",
       "      <td>Alien</td>\n",
       "    </tr>\n",
       "    <tr>\n",
       "      <th>4</th>\n",
       "      <td>http://www.wikidata.org/entity/Q116928</td>\n",
       "      <td>The Twilight Saga: New Moon</td>\n",
       "      <td>tt1259571</td>\n",
       "      <td>18239</td>\n",
       "      <td>33514</td>\n",
       "      <td>8966</td>\n",
       "      <td>Twilight</td>\n",
       "    </tr>\n",
       "  </tbody>\n",
       "</table>\n",
       "</div>"
      ],
      "text/plain": [
       "                                       item                         title  \\\n",
       "0  http://www.wikidata.org/entity/Q36951175   Mamma Mia! Here We Go Again   \n",
       "1    http://www.wikidata.org/entity/Q104814                 Aliens (film)   \n",
       "2    http://www.wikidata.org/entity/Q106571  From Russia with Love (film)   \n",
       "3    http://www.wikidata.org/entity/Q108543                       Alien 3   \n",
       "4    http://www.wikidata.org/entity/Q116928   The Twilight Saga: New Moon   \n",
       "\n",
       "        imdb tmdb_id collection_id original_movie_id original_movie_name  \n",
       "0  tt6911608  458423        458558             11631          Mamma Mia!  \n",
       "1  tt0090605     679          8091               348               Alien  \n",
       "2  tt0057076     657           645               646              Dr. No  \n",
       "3  tt0103644    8077          8091               348               Alien  \n",
       "4  tt1259571   18239         33514              8966            Twilight  "
      ]
     },
     "execution_count": 17,
     "metadata": {},
     "output_type": "execute_result"
    }
   ],
   "source": [
    "df = add_new_col_to_df(df, \"/movie/\", \"original_movie_id\", get_original_movie_name, \"original_movie_name\")\n",
    "df.head()"
   ]
  },
  {
   "cell_type": "markdown",
   "id": "0dd796f6",
   "metadata": {},
   "source": [
    "Lastly, adds a new column for the imdb ID of the original movie."
   ]
  },
  {
   "cell_type": "code",
   "execution_count": 19,
   "id": "ddb5ff9b",
   "metadata": {},
   "outputs": [
    {
     "name": "stderr",
     "output_type": "stream",
     "text": [
      "2023-05-18 15:03:38.616 | INFO     | __main__:fetch:15 - https://api.themoviedb.org/3/movie/138969?external_source=imdb_id&api_key=ad63716b3506edd1aaa3aef6c8ebd46b\n"
     ]
    },
    {
     "data": {
      "text/html": [
       "<div>\n",
       "<style scoped>\n",
       "    .dataframe tbody tr th:only-of-type {\n",
       "        vertical-align: middle;\n",
       "    }\n",
       "\n",
       "    .dataframe tbody tr th {\n",
       "        vertical-align: top;\n",
       "    }\n",
       "\n",
       "    .dataframe thead th {\n",
       "        text-align: right;\n",
       "    }\n",
       "</style>\n",
       "<table border=\"1\" class=\"dataframe\">\n",
       "  <thead>\n",
       "    <tr style=\"text-align: right;\">\n",
       "      <th></th>\n",
       "      <th>item</th>\n",
       "      <th>title</th>\n",
       "      <th>imdb</th>\n",
       "      <th>tmdb_id</th>\n",
       "      <th>collection_id</th>\n",
       "      <th>original_movie_id</th>\n",
       "      <th>original_movie_name</th>\n",
       "      <th>original_imdb_id</th>\n",
       "    </tr>\n",
       "  </thead>\n",
       "  <tbody>\n",
       "    <tr>\n",
       "      <th>0</th>\n",
       "      <td>http://www.wikidata.org/entity/Q36951175</td>\n",
       "      <td>Mamma Mia! Here We Go Again</td>\n",
       "      <td>tt6911608</td>\n",
       "      <td>458423</td>\n",
       "      <td>458558</td>\n",
       "      <td>11631</td>\n",
       "      <td>Mamma Mia!</td>\n",
       "      <td>tt0795421</td>\n",
       "    </tr>\n",
       "    <tr>\n",
       "      <th>1</th>\n",
       "      <td>http://www.wikidata.org/entity/Q104814</td>\n",
       "      <td>Aliens (film)</td>\n",
       "      <td>tt0090605</td>\n",
       "      <td>679</td>\n",
       "      <td>8091</td>\n",
       "      <td>348</td>\n",
       "      <td>Alien</td>\n",
       "      <td>tt0078748</td>\n",
       "    </tr>\n",
       "    <tr>\n",
       "      <th>2</th>\n",
       "      <td>http://www.wikidata.org/entity/Q106571</td>\n",
       "      <td>From Russia with Love (film)</td>\n",
       "      <td>tt0057076</td>\n",
       "      <td>657</td>\n",
       "      <td>645</td>\n",
       "      <td>646</td>\n",
       "      <td>Dr. No</td>\n",
       "      <td>tt0055928</td>\n",
       "    </tr>\n",
       "    <tr>\n",
       "      <th>3</th>\n",
       "      <td>http://www.wikidata.org/entity/Q108543</td>\n",
       "      <td>Alien 3</td>\n",
       "      <td>tt0103644</td>\n",
       "      <td>8077</td>\n",
       "      <td>8091</td>\n",
       "      <td>348</td>\n",
       "      <td>Alien</td>\n",
       "      <td>tt0078748</td>\n",
       "    </tr>\n",
       "    <tr>\n",
       "      <th>4</th>\n",
       "      <td>http://www.wikidata.org/entity/Q116928</td>\n",
       "      <td>The Twilight Saga: New Moon</td>\n",
       "      <td>tt1259571</td>\n",
       "      <td>18239</td>\n",
       "      <td>33514</td>\n",
       "      <td>8966</td>\n",
       "      <td>Twilight</td>\n",
       "      <td>tt1099212</td>\n",
       "    </tr>\n",
       "  </tbody>\n",
       "</table>\n",
       "</div>"
      ],
      "text/plain": [
       "                                       item                         title  \\\n",
       "0  http://www.wikidata.org/entity/Q36951175   Mamma Mia! Here We Go Again   \n",
       "1    http://www.wikidata.org/entity/Q104814                 Aliens (film)   \n",
       "2    http://www.wikidata.org/entity/Q106571  From Russia with Love (film)   \n",
       "3    http://www.wikidata.org/entity/Q108543                       Alien 3   \n",
       "4    http://www.wikidata.org/entity/Q116928   The Twilight Saga: New Moon   \n",
       "\n",
       "        imdb tmdb_id collection_id original_movie_id original_movie_name  \\\n",
       "0  tt6911608  458423        458558             11631          Mamma Mia!   \n",
       "1  tt0090605     679          8091               348               Alien   \n",
       "2  tt0057076     657           645               646              Dr. No   \n",
       "3  tt0103644    8077          8091               348               Alien   \n",
       "4  tt1259571   18239         33514              8966            Twilight   \n",
       "\n",
       "  original_imdb_id  \n",
       "0        tt0795421  \n",
       "1        tt0078748  \n",
       "2        tt0055928  \n",
       "3        tt0078748  \n",
       "4        tt1099212  "
      ]
     },
     "execution_count": 19,
     "metadata": {},
     "output_type": "execute_result"
    }
   ],
   "source": [
    "df = add_new_col_to_df(df, \"/movie/\", \"original_movie_id\", get_original_movie_id, \"original_imdb_id\")\n",
    "df.head()"
   ]
  },
  {
   "cell_type": "markdown",
   "id": "5618b344",
   "metadata": {},
   "source": [
    "Dropping columns that are no longer needed and renaming some columns."
   ]
  },
  {
   "cell_type": "code",
   "execution_count": 21,
   "id": "5cab51f3",
   "metadata": {},
   "outputs": [],
   "source": [
    "df.rename(columns={\"title\": \"sequel\"}, inplace=True)\n",
    "df.rename(columns={\"imdb\": \"sequel_imdb_id\"}, inplace=True)"
   ]
  },
  {
   "cell_type": "markdown",
   "id": "1cff7076",
   "metadata": {},
   "source": [
    "Removes movies if the original movie ID is the same as the sequel."
   ]
  },
  {
   "cell_type": "code",
   "execution_count": 22,
   "id": "67972588",
   "metadata": {},
   "outputs": [
    {
     "data": {
      "text/plain": [
       "(2593, 8)"
      ]
     },
     "execution_count": 22,
     "metadata": {},
     "output_type": "execute_result"
    }
   ],
   "source": [
    "df.drop(df[df.sequel_imdb_id == df.original_imdb_id].index, inplace=True)\n",
    "df.shape"
   ]
  },
  {
   "cell_type": "markdown",
   "id": "b07d358c",
   "metadata": {},
   "source": [
    "Storing the ids of sequels in a file so we could get information for those movies from IMDB."
   ]
  },
  {
   "cell_type": "code",
   "execution_count": 25,
   "id": "2be78ed7",
   "metadata": {},
   "outputs": [],
   "source": [
    "sequel_ids = df[[\"original_movie_name\", \"original_imdb_id\", \"sequel\", \"sequel_imdb_id\"]]\n",
    "\n",
    "# original name = prequel_sequel_ids.csv\n",
    "sequel_ids.to_csv(\"sequel_ids.csv\")"
   ]
  },
  {
   "cell_type": "markdown",
   "id": "b956ffcc",
   "metadata": {},
   "source": [
    "Constructing a new dataframe where each original movie in our dataframe has a list of sequels. The sequels are stored in a dictionary where the values are the movie's imdb and tmddb ID respectively. This helps us avoid multiple resquests to TMDB for movies that have multiple sequels."
   ]
  },
  {
   "cell_type": "code",
   "execution_count": 26,
   "id": "ee73bdc6",
   "metadata": {},
   "outputs": [
    {
     "data": {
      "text/html": [
       "<div>\n",
       "<style scoped>\n",
       "    .dataframe tbody tr th:only-of-type {\n",
       "        vertical-align: middle;\n",
       "    }\n",
       "\n",
       "    .dataframe tbody tr th {\n",
       "        vertical-align: top;\n",
       "    }\n",
       "\n",
       "    .dataframe thead th {\n",
       "        text-align: right;\n",
       "    }\n",
       "</style>\n",
       "<table border=\"1\" class=\"dataframe\">\n",
       "  <thead>\n",
       "    <tr style=\"text-align: right;\">\n",
       "      <th></th>\n",
       "      <th>original_movies</th>\n",
       "      <th>original_movie_imdb</th>\n",
       "      <th>original_movie_tmdb</th>\n",
       "      <th>sequels</th>\n",
       "    </tr>\n",
       "  </thead>\n",
       "  <tbody>\n",
       "    <tr>\n",
       "      <th>0</th>\n",
       "      <td>Mamma Mia!</td>\n",
       "      <td>tt0795421</td>\n",
       "      <td>11631</td>\n",
       "      <td>{'Mamma Mia! Here We Go Again': ['tt6911608', ...</td>\n",
       "    </tr>\n",
       "    <tr>\n",
       "      <th>1</th>\n",
       "      <td>Alien</td>\n",
       "      <td>tt0078748</td>\n",
       "      <td>348</td>\n",
       "      <td>{'Aliens (film)': ['tt0090605', '679'], 'Alien...</td>\n",
       "    </tr>\n",
       "    <tr>\n",
       "      <th>2</th>\n",
       "      <td>Dr. No</td>\n",
       "      <td>tt0055928</td>\n",
       "      <td>646</td>\n",
       "      <td>{'From Russia with Love (film)': ['tt0057076',...</td>\n",
       "    </tr>\n",
       "    <tr>\n",
       "      <th>3</th>\n",
       "      <td>Twilight</td>\n",
       "      <td>tt1099212</td>\n",
       "      <td>8966</td>\n",
       "      <td>{'The Twilight Saga: New Moon': ['tt1259571', ...</td>\n",
       "    </tr>\n",
       "    <tr>\n",
       "      <th>4</th>\n",
       "      <td>King Kong</td>\n",
       "      <td>tt0074751</td>\n",
       "      <td>10730</td>\n",
       "      <td>{'King Kong Lives': ['tt0091344', '31947'], 'S...</td>\n",
       "    </tr>\n",
       "  </tbody>\n",
       "</table>\n",
       "</div>"
      ],
      "text/plain": [
       "  original_movies original_movie_imdb original_movie_tmdb  \\\n",
       "0      Mamma Mia!           tt0795421               11631   \n",
       "1           Alien           tt0078748                 348   \n",
       "2          Dr. No           tt0055928                 646   \n",
       "3        Twilight           tt1099212                8966   \n",
       "4       King Kong           tt0074751               10730   \n",
       "\n",
       "                                             sequels  \n",
       "0  {'Mamma Mia! Here We Go Again': ['tt6911608', ...  \n",
       "1  {'Aliens (film)': ['tt0090605', '679'], 'Alien...  \n",
       "2  {'From Russia with Love (film)': ['tt0057076',...  \n",
       "3  {'The Twilight Saga: New Moon': ['tt1259571', ...  \n",
       "4  {'King Kong Lives': ['tt0091344', '31947'], 'S...  "
      ]
     },
     "execution_count": 26,
     "metadata": {},
     "output_type": "execute_result"
    }
   ],
   "source": [
    "original_movies = {}\n",
    "original_movies_id = []\n",
    "original_movies_tmdb_id = []\n",
    "\n",
    "for index, row in df.iterrows():\n",
    "    original_movie = row[\"original_movie_name\"]\n",
    "    if original_movie:\n",
    "        if original_movie not in original_movies:\n",
    "            original_movies[original_movie] = {row[\"sequel\"]: [row[\"sequel_imdb_id\"], row[\"tmdb_id\"]]}\n",
    "            original_movies_id.append(row[\"original_imdb_id\"])   \n",
    "            original_movies_tmdb_id.append(row[\"original_movie_id\"])   \n",
    "        else:\n",
    "            movie_dict = original_movies[original_movie]\n",
    "            movie_dict[row[\"sequel\"]] = [row[\"sequel_imdb_id\"], row[\"tmdb_id\"]]\n",
    "            original_movies[original_movie] = movie_dict\n",
    "            \n",
    "tmdb_df = pd.DataFrame()\n",
    "tmdb_df[\"original_movies\"]  = (original_movies.keys())\n",
    "tmdb_df[\"original_movie_imdb\"] = original_movies_id\n",
    "tmdb_df[\"original_movie_tmdb\"] = original_movies_tmdb_id\n",
    "tmdb_df[\"sequels\"] = list(original_movies.values()) \n",
    "tmdb_df.head()"
   ]
  },
  {
   "cell_type": "markdown",
   "id": "6a0d4f02",
   "metadata": {},
   "source": [
    "This goes through each original movie and sequel in the dataframe and gets a dataframe of various information for each movie."
   ]
  },
  {
   "cell_type": "code",
   "execution_count": 28,
   "id": "c5b3a386",
   "metadata": {},
   "outputs": [
    {
     "name": "stderr",
     "output_type": "stream",
     "text": [
      "2023-05-18 15:30:19.530 | INFO     | __main__:fetch:15 - https://api.themoviedb.org/3/movie/329851?api_key=ad63716b3506edd1aaa3aef6c8ebd46b\n"
     ]
    },
    {
     "data": {
      "text/html": [
       "<div>\n",
       "<style scoped>\n",
       "    .dataframe tbody tr th:only-of-type {\n",
       "        vertical-align: middle;\n",
       "    }\n",
       "\n",
       "    .dataframe tbody tr th {\n",
       "        vertical-align: top;\n",
       "    }\n",
       "\n",
       "    .dataframe thead th {\n",
       "        text-align: right;\n",
       "    }\n",
       "</style>\n",
       "<table border=\"1\" class=\"dataframe\">\n",
       "  <thead>\n",
       "    <tr style=\"text-align: right;\">\n",
       "      <th></th>\n",
       "      <th>adult</th>\n",
       "      <th>backdrop_path</th>\n",
       "      <th>belongs_to_collection</th>\n",
       "      <th>budget</th>\n",
       "      <th>genres</th>\n",
       "      <th>homepage</th>\n",
       "      <th>id</th>\n",
       "      <th>imdb_id</th>\n",
       "      <th>original_language</th>\n",
       "      <th>original_title</th>\n",
       "      <th>...</th>\n",
       "      <th>revenue</th>\n",
       "      <th>runtime</th>\n",
       "      <th>spoken_languages</th>\n",
       "      <th>status</th>\n",
       "      <th>tagline</th>\n",
       "      <th>title</th>\n",
       "      <th>video</th>\n",
       "      <th>vote_average</th>\n",
       "      <th>vote_count</th>\n",
       "      <th>is_sequel</th>\n",
       "    </tr>\n",
       "  </thead>\n",
       "  <tbody>\n",
       "    <tr>\n",
       "      <th>0</th>\n",
       "      <td>False</td>\n",
       "      <td>/ns9T8glyF7mYwxrcUHXm22nMf9t.jpg</td>\n",
       "      <td>{'id': 458558, 'name': 'Mamma Mia! Collection'...</td>\n",
       "      <td>52000000</td>\n",
       "      <td>[{'id': 35, 'name': 'Comedy'}, {'id': 10749, '...</td>\n",
       "      <td>http://www.mammamiamovie.com</td>\n",
       "      <td>11631</td>\n",
       "      <td>tt0795421</td>\n",
       "      <td>en</td>\n",
       "      <td>Mamma Mia!</td>\n",
       "      <td>...</td>\n",
       "      <td>609841637</td>\n",
       "      <td>108</td>\n",
       "      <td>[{'english_name': 'English', 'iso_639_1': 'en'...</td>\n",
       "      <td>Released</td>\n",
       "      <td>Take a trip down the aisle you'll never forget</td>\n",
       "      <td>Mamma Mia!</td>\n",
       "      <td>False</td>\n",
       "      <td>6.966</td>\n",
       "      <td>5868</td>\n",
       "      <td>0</td>\n",
       "    </tr>\n",
       "    <tr>\n",
       "      <th>1</th>\n",
       "      <td>False</td>\n",
       "      <td>/gtv2H1u9eGffjxVqNfJBZuFCKxR.jpg</td>\n",
       "      <td>{'id': 458558, 'name': 'Mamma Mia! Collection'...</td>\n",
       "      <td>75000000</td>\n",
       "      <td>[{'id': 35, 'name': 'Comedy'}, {'id': 10749, '...</td>\n",
       "      <td>http://mammamiamovie.com</td>\n",
       "      <td>458423</td>\n",
       "      <td>tt6911608</td>\n",
       "      <td>en</td>\n",
       "      <td>Mamma Mia! Here We Go Again</td>\n",
       "      <td>...</td>\n",
       "      <td>395044706</td>\n",
       "      <td>113</td>\n",
       "      <td>[{'english_name': 'English', 'iso_639_1': 'en'...</td>\n",
       "      <td>Released</td>\n",
       "      <td>Discover how it all began.</td>\n",
       "      <td>Mamma Mia! Here We Go Again</td>\n",
       "      <td>False</td>\n",
       "      <td>7.136</td>\n",
       "      <td>3039</td>\n",
       "      <td>1</td>\n",
       "    </tr>\n",
       "    <tr>\n",
       "      <th>2</th>\n",
       "      <td>False</td>\n",
       "      <td>/AmR3JG1VQVxU8TfAvljUhfSFUOx.jpg</td>\n",
       "      <td>{'id': 8091, 'name': 'Alien Collection', 'post...</td>\n",
       "      <td>11000000</td>\n",
       "      <td>[{'id': 27, 'name': 'Horror'}, {'id': 878, 'na...</td>\n",
       "      <td>https://www.20thcenturystudios.com/movies/alien</td>\n",
       "      <td>348</td>\n",
       "      <td>tt0078748</td>\n",
       "      <td>en</td>\n",
       "      <td>Alien</td>\n",
       "      <td>...</td>\n",
       "      <td>104931801</td>\n",
       "      <td>117</td>\n",
       "      <td>[{'english_name': 'English', 'iso_639_1': 'en'...</td>\n",
       "      <td>Released</td>\n",
       "      <td>In space no one can hear you scream.</td>\n",
       "      <td>Alien</td>\n",
       "      <td>False</td>\n",
       "      <td>8.142</td>\n",
       "      <td>12773</td>\n",
       "      <td>0</td>\n",
       "    </tr>\n",
       "    <tr>\n",
       "      <th>3</th>\n",
       "      <td>False</td>\n",
       "      <td>/jMBpJFRtrtIXymer93XLavPwI3P.jpg</td>\n",
       "      <td>{'id': 8091, 'name': 'Alien Collection', 'post...</td>\n",
       "      <td>18500000</td>\n",
       "      <td>[{'id': 28, 'name': 'Action'}, {'id': 53, 'nam...</td>\n",
       "      <td>https://www.20thcenturystudios.com/movies/aliens</td>\n",
       "      <td>679</td>\n",
       "      <td>tt0090605</td>\n",
       "      <td>en</td>\n",
       "      <td>Aliens</td>\n",
       "      <td>...</td>\n",
       "      <td>183316455</td>\n",
       "      <td>137</td>\n",
       "      <td>[{'english_name': 'English', 'iso_639_1': 'en'...</td>\n",
       "      <td>Released</td>\n",
       "      <td>This time it's war.</td>\n",
       "      <td>Aliens</td>\n",
       "      <td>False</td>\n",
       "      <td>7.921</td>\n",
       "      <td>8445</td>\n",
       "      <td>1</td>\n",
       "    </tr>\n",
       "    <tr>\n",
       "      <th>4</th>\n",
       "      <td>False</td>\n",
       "      <td>/nEmOmbCWBXS3tHU2N49z693KDK.jpg</td>\n",
       "      <td>{'id': 8091, 'name': 'Alien Collection', 'post...</td>\n",
       "      <td>50000000</td>\n",
       "      <td>[{'id': 878, 'name': 'Science Fiction'}, {'id'...</td>\n",
       "      <td>https://www.20thcenturystudios.com/movies/alien-3</td>\n",
       "      <td>8077</td>\n",
       "      <td>tt0103644</td>\n",
       "      <td>en</td>\n",
       "      <td>Alien³</td>\n",
       "      <td>...</td>\n",
       "      <td>159773545</td>\n",
       "      <td>114</td>\n",
       "      <td>[{'english_name': 'English', 'iso_639_1': 'en'...</td>\n",
       "      <td>Released</td>\n",
       "      <td>The bitch is back.</td>\n",
       "      <td>Alien³</td>\n",
       "      <td>False</td>\n",
       "      <td>6.348</td>\n",
       "      <td>4894</td>\n",
       "      <td>1</td>\n",
       "    </tr>\n",
       "  </tbody>\n",
       "</table>\n",
       "<p>5 rows × 26 columns</p>\n",
       "</div>"
      ],
      "text/plain": [
       "   adult                     backdrop_path  \\\n",
       "0  False  /ns9T8glyF7mYwxrcUHXm22nMf9t.jpg   \n",
       "1  False  /gtv2H1u9eGffjxVqNfJBZuFCKxR.jpg   \n",
       "2  False  /AmR3JG1VQVxU8TfAvljUhfSFUOx.jpg   \n",
       "3  False  /jMBpJFRtrtIXymer93XLavPwI3P.jpg   \n",
       "4  False   /nEmOmbCWBXS3tHU2N49z693KDK.jpg   \n",
       "\n",
       "                               belongs_to_collection    budget  \\\n",
       "0  {'id': 458558, 'name': 'Mamma Mia! Collection'...  52000000   \n",
       "1  {'id': 458558, 'name': 'Mamma Mia! Collection'...  75000000   \n",
       "2  {'id': 8091, 'name': 'Alien Collection', 'post...  11000000   \n",
       "3  {'id': 8091, 'name': 'Alien Collection', 'post...  18500000   \n",
       "4  {'id': 8091, 'name': 'Alien Collection', 'post...  50000000   \n",
       "\n",
       "                                              genres  \\\n",
       "0  [{'id': 35, 'name': 'Comedy'}, {'id': 10749, '...   \n",
       "1  [{'id': 35, 'name': 'Comedy'}, {'id': 10749, '...   \n",
       "2  [{'id': 27, 'name': 'Horror'}, {'id': 878, 'na...   \n",
       "3  [{'id': 28, 'name': 'Action'}, {'id': 53, 'nam...   \n",
       "4  [{'id': 878, 'name': 'Science Fiction'}, {'id'...   \n",
       "\n",
       "                                            homepage      id    imdb_id  \\\n",
       "0                       http://www.mammamiamovie.com   11631  tt0795421   \n",
       "1                           http://mammamiamovie.com  458423  tt6911608   \n",
       "2    https://www.20thcenturystudios.com/movies/alien     348  tt0078748   \n",
       "3   https://www.20thcenturystudios.com/movies/aliens     679  tt0090605   \n",
       "4  https://www.20thcenturystudios.com/movies/alien-3    8077  tt0103644   \n",
       "\n",
       "  original_language               original_title  ...    revenue  runtime  \\\n",
       "0                en                   Mamma Mia!  ...  609841637      108   \n",
       "1                en  Mamma Mia! Here We Go Again  ...  395044706      113   \n",
       "2                en                        Alien  ...  104931801      117   \n",
       "3                en                       Aliens  ...  183316455      137   \n",
       "4                en                       Alien³  ...  159773545      114   \n",
       "\n",
       "                                    spoken_languages    status  \\\n",
       "0  [{'english_name': 'English', 'iso_639_1': 'en'...  Released   \n",
       "1  [{'english_name': 'English', 'iso_639_1': 'en'...  Released   \n",
       "2  [{'english_name': 'English', 'iso_639_1': 'en'...  Released   \n",
       "3  [{'english_name': 'English', 'iso_639_1': 'en'...  Released   \n",
       "4  [{'english_name': 'English', 'iso_639_1': 'en'...  Released   \n",
       "\n",
       "                                          tagline  \\\n",
       "0  Take a trip down the aisle you'll never forget   \n",
       "1                      Discover how it all began.   \n",
       "2            In space no one can hear you scream.   \n",
       "3                             This time it's war.   \n",
       "4                              The bitch is back.   \n",
       "\n",
       "                         title  video  vote_average vote_count is_sequel  \n",
       "0                   Mamma Mia!  False         6.966       5868         0  \n",
       "1  Mamma Mia! Here We Go Again  False         7.136       3039         1  \n",
       "2                        Alien  False         8.142      12773         0  \n",
       "3                       Aliens  False         7.921       8445         1  \n",
       "4                       Alien³  False         6.348       4894         1  \n",
       "\n",
       "[5 rows x 26 columns]"
      ]
     },
     "execution_count": 28,
     "metadata": {},
     "output_type": "execute_result"
    }
   ],
   "source": [
    "list_of_movie_jsons = []\n",
    "is_sequel_list = []\n",
    "\n",
    "for index, row in tmdb_df.iterrows():\n",
    "    response = None\n",
    "    endpoint = \"/movie/\" + str(row[\"original_movie_tmdb\"])\n",
    "    response = fetch(endpoint)\n",
    "    if response:\n",
    "        list_of_movie_jsons.append(response)\n",
    "        is_sequel_list.append(0)\n",
    "    for sequel_id in row[\"sequels\"].values():\n",
    "        response = None\n",
    "        endpoint = \"/movie/\" + sequel_id[1]\n",
    "        response = fetch(endpoint)\n",
    "        if response:\n",
    "            list_of_movie_jsons.append(response)   \n",
    "            is_sequel_list.append(1)\n",
    "\n",
    "# removing missing values from list\n",
    "list_of_movie_jsons = list(filter(lambda x: x is not None, list_of_movie_jsons))\n",
    "movies_df = pd.DataFrame(list_of_movie_jsons)   \n",
    "movies_df[\"is_sequel\"] = is_sequel_list\n",
    "movies_df.head()"
   ]
  },
  {
   "cell_type": "markdown",
   "id": "6e8faa90",
   "metadata": {},
   "source": [
    "The total number or original movies and sequels in this dataframe."
   ]
  },
  {
   "cell_type": "code",
   "execution_count": 29,
   "id": "b5aca17d",
   "metadata": {},
   "outputs": [
    {
     "data": {
      "text/plain": [
       "(1299, 2547)"
      ]
     },
     "execution_count": 29,
     "metadata": {},
     "output_type": "execute_result"
    }
   ],
   "source": [
    "((movies_df[\"is_sequel\"] == 0).sum(),(movies_df[\"is_sequel\"] == 1).sum())"
   ]
  },
  {
   "cell_type": "markdown",
   "id": "8228cea5",
   "metadata": {},
   "source": [
    "Only keeping the columns we want and renaming some columns."
   ]
  },
  {
   "cell_type": "code",
   "execution_count": 31,
   "id": "4dbd6480",
   "metadata": {},
   "outputs": [],
   "source": [
    "sequels_tmdb_df = movies_df[['title','imdb_id', 'id','release_date', 'is_sequel', 'runtime','vote_average','vote_count', 'popularity', 'budget', \n",
    "                       'revenue', 'genres','original_language', 'belongs_to_collection', 'production_companies', 'production_countries']]\n",
    "\n",
    "sequels_tmdb_df = sequels_tmdb_df.rename(columns={\"id\": \"tmdb_id\"})"
   ]
  },
  {
   "cell_type": "markdown",
   "id": "c5dd6c57",
   "metadata": {},
   "source": [
    "Storing the collection ids of movies. "
   ]
  },
  {
   "cell_type": "code",
   "execution_count": 32,
   "id": "f422ba21",
   "metadata": {},
   "outputs": [],
   "source": [
    "sequels_tmdb_df[\"collection_id\"] = sequels_tmdb_df[\"belongs_to_collection\"].apply(lambda x: x[\"id\"] if type(x) == dict else np.nan)\n",
    "sequels_tmdb_df.drop(\"belongs_to_collection\", inplace=True, axis=1)"
   ]
  },
  {
   "cell_type": "markdown",
   "id": "e92214cc",
   "metadata": {},
   "source": [
    "Saving output to csv."
   ]
  },
  {
   "cell_type": "code",
   "execution_count": 39,
   "id": "8a0aad8e",
   "metadata": {},
   "outputs": [],
   "source": [
    "sequels_tmdb_df.to_csv(\"sequels_tmdb_data.csv\")"
   ]
  }
 ],
 "metadata": {
  "kernelspec": {
   "display_name": "Python 3 (ipykernel)",
   "language": "python",
   "name": "python3"
  },
  "language_info": {
   "codemirror_mode": {
    "name": "ipython",
    "version": 3
   },
   "file_extension": ".py",
   "mimetype": "text/x-python",
   "name": "python",
   "nbconvert_exporter": "python",
   "pygments_lexer": "ipython3",
   "version": "3.9.12"
  }
 },
 "nbformat": 4,
 "nbformat_minor": 5
}
