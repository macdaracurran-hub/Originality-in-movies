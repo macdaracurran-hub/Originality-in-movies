{
 "cells": [
  {
   "cell_type": "markdown",
   "id": "17151704",
   "metadata": {},
   "source": [
    "## This notebook creates a list of original movies using a TMDB dump."
   ]
  },
  {
   "cell_type": "code",
   "execution_count": 1,
   "id": "2583c93a",
   "metadata": {},
   "outputs": [],
   "source": [
    "import urllib.request\n",
    "import gzip\n",
    "import requests\n",
    "import json\n",
    "from loguru import logger\n",
    "from IPython.display import clear_output\n",
    "import pandas as pd\n",
    "import shutil\n",
    "import numpy as np\n",
    "import re\n",
    "from scipy import stats\n",
    "\n",
    "tmdb_key = \"ad63716b3506edd1aaa3aef6c8ebd46b\""
   ]
  },
  {
   "cell_type": "markdown",
   "id": "a8559b8c",
   "metadata": {},
   "source": [
    "Reading the TMDB dump and converting it into a .txt file."
   ]
  },
  {
   "cell_type": "code",
   "execution_count": 2,
   "id": "692c01f1",
   "metadata": {},
   "outputs": [],
   "source": [
    "with gzip.open('movie_ids_01_01_2023.json.gz', 'rb') as f_in:\n",
    "    with open('movie_ids_01_01_2023.txt', 'wb') as f_out:\n",
    "        shutil.copyfileobj(f_in, f_out)"
   ]
  },
  {
   "cell_type": "markdown",
   "id": "643f3b3f",
   "metadata": {},
   "source": [
    "Using systematic sampling, takes every 75th movie in the data."
   ]
  },
  {
   "cell_type": "code",
   "execution_count": 3,
   "id": "7b353ac1",
   "metadata": {},
   "outputs": [
    {
     "data": {
      "text/plain": [
       "10000"
      ]
     },
     "execution_count": 3,
     "metadata": {},
     "output_type": "execute_result"
    }
   ],
   "source": [
    "with open(\"movie_ids_01_01_2023.txt\", encoding=\"utf8\") as f:\n",
    "    lines = f.readlines()\n",
    "sample_lines = lines[0:750000:75]\n",
    "len(sample_lines)"
   ]
  },
  {
   "cell_type": "code",
   "execution_count": 4,
   "id": "3ff8928a",
   "metadata": {},
   "outputs": [],
   "source": [
    "# this method makes requests to tmdb's api and returns the resulting json. If there is an error then returns nan instead.\n",
    "\n",
    "def fetch(endpoint, params={}):\n",
    "    # construct the url\n",
    "    api_prefix = \"https://api.themoviedb.org/3\"\n",
    "    url = api_prefix\n",
    "    \n",
    "    if not endpoint.startswith(\"/\"):\n",
    "        url += \"/\"\n",
    "    \n",
    "    url += endpoint\n",
    "    \n",
    "    params[\"api_key\"] = tmdb_key\n",
    "    url += \"?\" + urllib.parse.urlencode(params)\n",
    "    \n",
    "    clear_output()\n",
    "    logger.info(url)\n",
    "\n",
    "    try:\n",
    "        response = urllib.request.urlopen(url)\n",
    "        raw_json = response.read().decode(\"utf-8\")\n",
    "        return json.loads(raw_json)\n",
    "    # if an error occured return None \n",
    "    except:\n",
    "        return np.nan"
   ]
  },
  {
   "cell_type": "markdown",
   "id": "e49c6b92",
   "metadata": {},
   "source": [
    "Checks if each movie is part of a collection, if a movie does not belong to a collection then we will consider it an original movie."
   ]
  },
  {
   "cell_type": "code",
   "execution_count": 5,
   "id": "df010b1b",
   "metadata": {},
   "outputs": [
    {
     "name": "stderr",
     "output_type": "stream",
     "text": [
      "2023-05-18 10:35:30.450 | INFO     | __main__:fetch:17 - https://api.themoviedb.org/3/movie/1043969?api_key=ad63716b3506edd1aaa3aef6c8ebd46b\n"
     ]
    }
   ],
   "source": [
    "list_of_movie_jsons = []\n",
    "\n",
    "for line in sample_lines:  \n",
    "    # converting each line into a dictionary so we can extract movie id\n",
    "    json_dict = line = json.loads(line)\n",
    "    endpoint = \"/movie/\" + str(json_dict[\"id\"])\n",
    "    movie_data = fetch(endpoint)\n",
    "    \n",
    "    # checks the movie does not belong to any collection (the movie is stand-alone) and makes sure the movie has an imdb id\n",
    "    try:\n",
    "        if (movie_data[\"belongs_to_collection\"] == None) and (movie_data[\"imdb_id\"] != None):\n",
    "            list_of_movie_jsons.append(movie_data)\n",
    "    except:\n",
    "        continue"
   ]
  },
  {
   "cell_type": "code",
   "execution_count": 6,
   "id": "4485d12e",
   "metadata": {},
   "outputs": [
    {
     "data": {
      "text/plain": [
       "6738"
      ]
     },
     "execution_count": 6,
     "metadata": {},
     "output_type": "execute_result"
    }
   ],
   "source": [
    "len(list_of_movie_jsons)"
   ]
  },
  {
   "cell_type": "code",
   "execution_count": 7,
   "id": "f1745179",
   "metadata": {},
   "outputs": [
    {
     "data": {
      "text/html": [
       "<div>\n",
       "<style scoped>\n",
       "    .dataframe tbody tr th:only-of-type {\n",
       "        vertical-align: middle;\n",
       "    }\n",
       "\n",
       "    .dataframe tbody tr th {\n",
       "        vertical-align: top;\n",
       "    }\n",
       "\n",
       "    .dataframe thead th {\n",
       "        text-align: right;\n",
       "    }\n",
       "</style>\n",
       "<table border=\"1\" class=\"dataframe\">\n",
       "  <thead>\n",
       "    <tr style=\"text-align: right;\">\n",
       "      <th></th>\n",
       "      <th>adult</th>\n",
       "      <th>backdrop_path</th>\n",
       "      <th>belongs_to_collection</th>\n",
       "      <th>budget</th>\n",
       "      <th>genres</th>\n",
       "      <th>homepage</th>\n",
       "      <th>id</th>\n",
       "      <th>imdb_id</th>\n",
       "      <th>original_language</th>\n",
       "      <th>original_title</th>\n",
       "      <th>...</th>\n",
       "      <th>release_date</th>\n",
       "      <th>revenue</th>\n",
       "      <th>runtime</th>\n",
       "      <th>spoken_languages</th>\n",
       "      <th>status</th>\n",
       "      <th>tagline</th>\n",
       "      <th>title</th>\n",
       "      <th>video</th>\n",
       "      <th>vote_average</th>\n",
       "      <th>vote_count</th>\n",
       "    </tr>\n",
       "  </thead>\n",
       "  <tbody>\n",
       "    <tr>\n",
       "      <th>0</th>\n",
       "      <td>False</td>\n",
       "      <td>/3hwKS7e21hzEnXZaOs2FE6e97bc.jpg</td>\n",
       "      <td>None</td>\n",
       "      <td>2200000</td>\n",
       "      <td>[{'id': 878, 'name': 'Science Fiction'}, {'id'...</td>\n",
       "      <td></td>\n",
       "      <td>185</td>\n",
       "      <td>tt0066921</td>\n",
       "      <td>en</td>\n",
       "      <td>A Clockwork Orange</td>\n",
       "      <td>...</td>\n",
       "      <td>1971-12-19</td>\n",
       "      <td>26589000</td>\n",
       "      <td>137</td>\n",
       "      <td>[{'english_name': 'English', 'iso_639_1': 'en'...</td>\n",
       "      <td>Released</td>\n",
       "      <td>Being the adventures of a young man whose prin...</td>\n",
       "      <td>A Clockwork Orange</td>\n",
       "      <td>False</td>\n",
       "      <td>8.218</td>\n",
       "      <td>11594</td>\n",
       "    </tr>\n",
       "    <tr>\n",
       "      <th>1</th>\n",
       "      <td>False</td>\n",
       "      <td>/5SV2p8jI3kGH3jzyX5p1C6PjPqt.jpg</td>\n",
       "      <td>None</td>\n",
       "      <td>0</td>\n",
       "      <td>[{'id': 18, 'name': 'Drama'}, {'id': 10749, 'n...</td>\n",
       "      <td>http://www.gegendiewand.de/</td>\n",
       "      <td>363</td>\n",
       "      <td>tt0347048</td>\n",
       "      <td>de</td>\n",
       "      <td>Gegen die Wand</td>\n",
       "      <td>...</td>\n",
       "      <td>2004-03-11</td>\n",
       "      <td>11030861</td>\n",
       "      <td>117</td>\n",
       "      <td>[{'english_name': 'German', 'iso_639_1': 'de',...</td>\n",
       "      <td>Released</td>\n",
       "      <td></td>\n",
       "      <td>Head-On</td>\n",
       "      <td>False</td>\n",
       "      <td>7.453</td>\n",
       "      <td>470</td>\n",
       "    </tr>\n",
       "    <tr>\n",
       "      <th>2</th>\n",
       "      <td>False</td>\n",
       "      <td>/rYpGznw5UExo3ojqRK8eRIfqoEJ.jpg</td>\n",
       "      <td>None</td>\n",
       "      <td>60000</td>\n",
       "      <td>[{'id': 9648, 'name': 'Mystery'}, {'id': 18, '...</td>\n",
       "      <td></td>\n",
       "      <td>473</td>\n",
       "      <td>tt0138704</td>\n",
       "      <td>en</td>\n",
       "      <td>Pi</td>\n",
       "      <td>...</td>\n",
       "      <td>1998-07-10</td>\n",
       "      <td>3221152</td>\n",
       "      <td>84</td>\n",
       "      <td>[{'english_name': 'English', 'iso_639_1': 'en'...</td>\n",
       "      <td>Released</td>\n",
       "      <td>There will be no order, only chaos</td>\n",
       "      <td>Pi</td>\n",
       "      <td>False</td>\n",
       "      <td>7.122</td>\n",
       "      <td>1942</td>\n",
       "    </tr>\n",
       "    <tr>\n",
       "      <th>3</th>\n",
       "      <td>False</td>\n",
       "      <td>/pnwI95K4pmYeM3LsMRTQYzvhvvO.jpg</td>\n",
       "      <td>None</td>\n",
       "      <td>0</td>\n",
       "      <td>[{'id': 18, 'name': 'Drama'}]</td>\n",
       "      <td></td>\n",
       "      <td>570</td>\n",
       "      <td>tt0243255</td>\n",
       "      <td>fr</td>\n",
       "      <td>À ma soeur!</td>\n",
       "      <td>...</td>\n",
       "      <td>2001-03-07</td>\n",
       "      <td>0</td>\n",
       "      <td>86</td>\n",
       "      <td>[{'english_name': 'English', 'iso_639_1': 'en'...</td>\n",
       "      <td>Released</td>\n",
       "      <td></td>\n",
       "      <td>Fat Girl</td>\n",
       "      <td>False</td>\n",
       "      <td>6.215</td>\n",
       "      <td>177</td>\n",
       "    </tr>\n",
       "    <tr>\n",
       "      <th>4</th>\n",
       "      <td>False</td>\n",
       "      <td>/9fJPLvrUV32MzpfDwXk7cOnj8hM.jpg</td>\n",
       "      <td>None</td>\n",
       "      <td>0</td>\n",
       "      <td>[{'id': 18, 'name': 'Drama'}, {'id': 10749, 'n...</td>\n",
       "      <td></td>\n",
       "      <td>649</td>\n",
       "      <td>tt0061395</td>\n",
       "      <td>fr</td>\n",
       "      <td>Belle de jour</td>\n",
       "      <td>...</td>\n",
       "      <td>1967-05-24</td>\n",
       "      <td>0</td>\n",
       "      <td>101</td>\n",
       "      <td>[{'english_name': 'French', 'iso_639_1': 'fr',...</td>\n",
       "      <td>Released</td>\n",
       "      <td>Luis Bunuel's Masterpiece of Erotica!</td>\n",
       "      <td>Belle de Jour</td>\n",
       "      <td>False</td>\n",
       "      <td>7.420</td>\n",
       "      <td>738</td>\n",
       "    </tr>\n",
       "  </tbody>\n",
       "</table>\n",
       "<p>5 rows × 25 columns</p>\n",
       "</div>"
      ],
      "text/plain": [
       "   adult                     backdrop_path belongs_to_collection   budget  \\\n",
       "0  False  /3hwKS7e21hzEnXZaOs2FE6e97bc.jpg                  None  2200000   \n",
       "1  False  /5SV2p8jI3kGH3jzyX5p1C6PjPqt.jpg                  None        0   \n",
       "2  False  /rYpGznw5UExo3ojqRK8eRIfqoEJ.jpg                  None    60000   \n",
       "3  False  /pnwI95K4pmYeM3LsMRTQYzvhvvO.jpg                  None        0   \n",
       "4  False  /9fJPLvrUV32MzpfDwXk7cOnj8hM.jpg                  None        0   \n",
       "\n",
       "                                              genres  \\\n",
       "0  [{'id': 878, 'name': 'Science Fiction'}, {'id'...   \n",
       "1  [{'id': 18, 'name': 'Drama'}, {'id': 10749, 'n...   \n",
       "2  [{'id': 9648, 'name': 'Mystery'}, {'id': 18, '...   \n",
       "3                      [{'id': 18, 'name': 'Drama'}]   \n",
       "4  [{'id': 18, 'name': 'Drama'}, {'id': 10749, 'n...   \n",
       "\n",
       "                      homepage   id    imdb_id original_language  \\\n",
       "0                               185  tt0066921                en   \n",
       "1  http://www.gegendiewand.de/  363  tt0347048                de   \n",
       "2                               473  tt0138704                en   \n",
       "3                               570  tt0243255                fr   \n",
       "4                               649  tt0061395                fr   \n",
       "\n",
       "       original_title  ... release_date   revenue runtime  \\\n",
       "0  A Clockwork Orange  ...   1971-12-19  26589000     137   \n",
       "1      Gegen die Wand  ...   2004-03-11  11030861     117   \n",
       "2                  Pi  ...   1998-07-10   3221152      84   \n",
       "3         À ma soeur!  ...   2001-03-07         0      86   \n",
       "4       Belle de jour  ...   1967-05-24         0     101   \n",
       "\n",
       "                                    spoken_languages    status  \\\n",
       "0  [{'english_name': 'English', 'iso_639_1': 'en'...  Released   \n",
       "1  [{'english_name': 'German', 'iso_639_1': 'de',...  Released   \n",
       "2  [{'english_name': 'English', 'iso_639_1': 'en'...  Released   \n",
       "3  [{'english_name': 'English', 'iso_639_1': 'en'...  Released   \n",
       "4  [{'english_name': 'French', 'iso_639_1': 'fr',...  Released   \n",
       "\n",
       "                                             tagline               title  \\\n",
       "0  Being the adventures of a young man whose prin...  A Clockwork Orange   \n",
       "1                                                                Head-On   \n",
       "2                 There will be no order, only chaos                  Pi   \n",
       "3                                                               Fat Girl   \n",
       "4              Luis Bunuel's Masterpiece of Erotica!       Belle de Jour   \n",
       "\n",
       "   video vote_average vote_count  \n",
       "0  False        8.218      11594  \n",
       "1  False        7.453        470  \n",
       "2  False        7.122       1942  \n",
       "3  False        6.215        177  \n",
       "4  False        7.420        738  \n",
       "\n",
       "[5 rows x 25 columns]"
      ]
     },
     "execution_count": 7,
     "metadata": {},
     "output_type": "execute_result"
    }
   ],
   "source": [
    "df = pd.DataFrame(list_of_movie_jsons) \n",
    "df.head()"
   ]
  },
  {
   "cell_type": "markdown",
   "id": "3b7bb3cb",
   "metadata": {},
   "source": [
    "Only keeping important columns."
   ]
  },
  {
   "cell_type": "code",
   "execution_count": 8,
   "id": "b2b66875",
   "metadata": {},
   "outputs": [
    {
     "data": {
      "text/html": [
       "<div>\n",
       "<style scoped>\n",
       "    .dataframe tbody tr th:only-of-type {\n",
       "        vertical-align: middle;\n",
       "    }\n",
       "\n",
       "    .dataframe tbody tr th {\n",
       "        vertical-align: top;\n",
       "    }\n",
       "\n",
       "    .dataframe thead th {\n",
       "        text-align: right;\n",
       "    }\n",
       "</style>\n",
       "<table border=\"1\" class=\"dataframe\">\n",
       "  <thead>\n",
       "    <tr style=\"text-align: right;\">\n",
       "      <th></th>\n",
       "      <th>title</th>\n",
       "      <th>imdb_id</th>\n",
       "      <th>id</th>\n",
       "      <th>release_date</th>\n",
       "      <th>runtime</th>\n",
       "      <th>vote_average</th>\n",
       "      <th>vote_count</th>\n",
       "      <th>popularity</th>\n",
       "      <th>budget</th>\n",
       "      <th>revenue</th>\n",
       "      <th>genres</th>\n",
       "      <th>original_language</th>\n",
       "      <th>production_companies</th>\n",
       "      <th>production_countries</th>\n",
       "    </tr>\n",
       "  </thead>\n",
       "  <tbody>\n",
       "    <tr>\n",
       "      <th>0</th>\n",
       "      <td>A Clockwork Orange</td>\n",
       "      <td>tt0066921</td>\n",
       "      <td>185</td>\n",
       "      <td>1971-12-19</td>\n",
       "      <td>137</td>\n",
       "      <td>8.218</td>\n",
       "      <td>11594</td>\n",
       "      <td>29.221</td>\n",
       "      <td>2200000</td>\n",
       "      <td>26589000</td>\n",
       "      <td>[{'id': 878, 'name': 'Science Fiction'}, {'id'...</td>\n",
       "      <td>en</td>\n",
       "      <td>[{'id': 174, 'logo_path': '/IuAlhI9eVC9Z8UQWOI...</td>\n",
       "      <td>[{'iso_3166_1': 'GB', 'name': 'United Kingdom'...</td>\n",
       "    </tr>\n",
       "    <tr>\n",
       "      <th>1</th>\n",
       "      <td>Head-On</td>\n",
       "      <td>tt0347048</td>\n",
       "      <td>363</td>\n",
       "      <td>2004-03-11</td>\n",
       "      <td>117</td>\n",
       "      <td>7.453</td>\n",
       "      <td>470</td>\n",
       "      <td>8.132</td>\n",
       "      <td>0</td>\n",
       "      <td>11030861</td>\n",
       "      <td>[{'id': 18, 'name': 'Drama'}, {'id': 10749, 'n...</td>\n",
       "      <td>de</td>\n",
       "      <td>[{'id': 200, 'logo_path': None, 'name': 'Coraz...</td>\n",
       "      <td>[{'iso_3166_1': 'DE', 'name': 'Germany'}, {'is...</td>\n",
       "    </tr>\n",
       "    <tr>\n",
       "      <th>2</th>\n",
       "      <td>Pi</td>\n",
       "      <td>tt0138704</td>\n",
       "      <td>473</td>\n",
       "      <td>1998-07-10</td>\n",
       "      <td>84</td>\n",
       "      <td>7.122</td>\n",
       "      <td>1942</td>\n",
       "      <td>10.689</td>\n",
       "      <td>60000</td>\n",
       "      <td>3221152</td>\n",
       "      <td>[{'id': 9648, 'name': 'Mystery'}, {'id': 18, '...</td>\n",
       "      <td>en</td>\n",
       "      <td>[{'id': 22566, 'logo_path': None, 'name': 'Har...</td>\n",
       "      <td>[{'iso_3166_1': 'US', 'name': 'United States o...</td>\n",
       "    </tr>\n",
       "    <tr>\n",
       "      <th>3</th>\n",
       "      <td>Fat Girl</td>\n",
       "      <td>tt0243255</td>\n",
       "      <td>570</td>\n",
       "      <td>2001-03-07</td>\n",
       "      <td>86</td>\n",
       "      <td>6.215</td>\n",
       "      <td>177</td>\n",
       "      <td>11.034</td>\n",
       "      <td>0</td>\n",
       "      <td>0</td>\n",
       "      <td>[{'id': 18, 'name': 'Drama'}]</td>\n",
       "      <td>fr</td>\n",
       "      <td>[{'id': 15130, 'logo_path': None, 'name': 'Ura...</td>\n",
       "      <td>[{'iso_3166_1': 'FR', 'name': 'France'}, {'iso...</td>\n",
       "    </tr>\n",
       "    <tr>\n",
       "      <th>4</th>\n",
       "      <td>Belle de Jour</td>\n",
       "      <td>tt0061395</td>\n",
       "      <td>649</td>\n",
       "      <td>1967-05-24</td>\n",
       "      <td>101</td>\n",
       "      <td>7.420</td>\n",
       "      <td>738</td>\n",
       "      <td>17.263</td>\n",
       "      <td>0</td>\n",
       "      <td>0</td>\n",
       "      <td>[{'id': 18, 'name': 'Drama'}, {'id': 10749, 'n...</td>\n",
       "      <td>fr</td>\n",
       "      <td>[{'id': 386, 'logo_path': None, 'name': 'Paris...</td>\n",
       "      <td>[{'iso_3166_1': 'FR', 'name': 'France'}, {'iso...</td>\n",
       "    </tr>\n",
       "  </tbody>\n",
       "</table>\n",
       "</div>"
      ],
      "text/plain": [
       "                title    imdb_id   id release_date  runtime  vote_average  \\\n",
       "0  A Clockwork Orange  tt0066921  185   1971-12-19      137         8.218   \n",
       "1             Head-On  tt0347048  363   2004-03-11      117         7.453   \n",
       "2                  Pi  tt0138704  473   1998-07-10       84         7.122   \n",
       "3            Fat Girl  tt0243255  570   2001-03-07       86         6.215   \n",
       "4       Belle de Jour  tt0061395  649   1967-05-24      101         7.420   \n",
       "\n",
       "   vote_count  popularity   budget   revenue  \\\n",
       "0       11594      29.221  2200000  26589000   \n",
       "1         470       8.132        0  11030861   \n",
       "2        1942      10.689    60000   3221152   \n",
       "3         177      11.034        0         0   \n",
       "4         738      17.263        0         0   \n",
       "\n",
       "                                              genres original_language  \\\n",
       "0  [{'id': 878, 'name': 'Science Fiction'}, {'id'...                en   \n",
       "1  [{'id': 18, 'name': 'Drama'}, {'id': 10749, 'n...                de   \n",
       "2  [{'id': 9648, 'name': 'Mystery'}, {'id': 18, '...                en   \n",
       "3                      [{'id': 18, 'name': 'Drama'}]                fr   \n",
       "4  [{'id': 18, 'name': 'Drama'}, {'id': 10749, 'n...                fr   \n",
       "\n",
       "                                production_companies  \\\n",
       "0  [{'id': 174, 'logo_path': '/IuAlhI9eVC9Z8UQWOI...   \n",
       "1  [{'id': 200, 'logo_path': None, 'name': 'Coraz...   \n",
       "2  [{'id': 22566, 'logo_path': None, 'name': 'Har...   \n",
       "3  [{'id': 15130, 'logo_path': None, 'name': 'Ura...   \n",
       "4  [{'id': 386, 'logo_path': None, 'name': 'Paris...   \n",
       "\n",
       "                                production_countries  \n",
       "0  [{'iso_3166_1': 'GB', 'name': 'United Kingdom'...  \n",
       "1  [{'iso_3166_1': 'DE', 'name': 'Germany'}, {'is...  \n",
       "2  [{'iso_3166_1': 'US', 'name': 'United States o...  \n",
       "3  [{'iso_3166_1': 'FR', 'name': 'France'}, {'iso...  \n",
       "4  [{'iso_3166_1': 'FR', 'name': 'France'}, {'iso...  "
      ]
     },
     "execution_count": 8,
     "metadata": {},
     "output_type": "execute_result"
    }
   ],
   "source": [
    "standalones_tmdb_df = df[['title','imdb_id', 'id','release_date', 'runtime','vote_average','vote_count', 'popularity', 'budget', 'revenue', \n",
    "                        'genres','original_language', 'production_companies', 'production_countries']]\n",
    "standalones_tmdb_df.head()"
   ]
  },
  {
   "cell_type": "markdown",
   "id": "e7700cae",
   "metadata": {},
   "source": [
    "Outputting the data to a csv file."
   ]
  },
  {
   "cell_type": "code",
   "execution_count": 9,
   "id": "01337d0d",
   "metadata": {},
   "outputs": [],
   "source": [
    "standalones_tmdb_df.to_csv(\"standalones_tmdb_data.csv\")"
   ]
  },
  {
   "cell_type": "code",
   "execution_count": null,
   "id": "fb0e995f",
   "metadata": {},
   "outputs": [],
   "source": []
  },
  {
   "cell_type": "code",
   "execution_count": 10,
   "id": "0d9d611a",
   "metadata": {},
   "outputs": [
    {
     "ename": "FileNotFoundError",
     "evalue": "[Errno 2] No such file or directory: 'NewOriginal.csv'",
     "output_type": "error",
     "traceback": [
      "\u001b[1;31m---------------------------------------------------------------------------\u001b[0m",
      "\u001b[1;31mFileNotFoundError\u001b[0m                         Traceback (most recent call last)",
      "Input \u001b[1;32mIn [10]\u001b[0m, in \u001b[0;36m<cell line: 1>\u001b[1;34m()\u001b[0m\n\u001b[1;32m----> 1\u001b[0m standalones_imdb_df \u001b[38;5;241m=\u001b[39m \u001b[43mpd\u001b[49m\u001b[38;5;241;43m.\u001b[39;49m\u001b[43mread_csv\u001b[49m\u001b[43m(\u001b[49m\u001b[38;5;124;43m\"\u001b[39;49m\u001b[38;5;124;43mNewOriginal.csv\u001b[39;49m\u001b[38;5;124;43m\"\u001b[39;49m\u001b[43m)\u001b[49m\n",
      "File \u001b[1;32m~\\anaconda3\\lib\\site-packages\\pandas\\util\\_decorators.py:311\u001b[0m, in \u001b[0;36mdeprecate_nonkeyword_arguments.<locals>.decorate.<locals>.wrapper\u001b[1;34m(*args, **kwargs)\u001b[0m\n\u001b[0;32m    305\u001b[0m \u001b[38;5;28;01mif\u001b[39;00m \u001b[38;5;28mlen\u001b[39m(args) \u001b[38;5;241m>\u001b[39m num_allow_args:\n\u001b[0;32m    306\u001b[0m     warnings\u001b[38;5;241m.\u001b[39mwarn(\n\u001b[0;32m    307\u001b[0m         msg\u001b[38;5;241m.\u001b[39mformat(arguments\u001b[38;5;241m=\u001b[39marguments),\n\u001b[0;32m    308\u001b[0m         \u001b[38;5;167;01mFutureWarning\u001b[39;00m,\n\u001b[0;32m    309\u001b[0m         stacklevel\u001b[38;5;241m=\u001b[39mstacklevel,\n\u001b[0;32m    310\u001b[0m     )\n\u001b[1;32m--> 311\u001b[0m \u001b[38;5;28;01mreturn\u001b[39;00m func(\u001b[38;5;241m*\u001b[39margs, \u001b[38;5;241m*\u001b[39m\u001b[38;5;241m*\u001b[39mkwargs)\n",
      "File \u001b[1;32m~\\anaconda3\\lib\\site-packages\\pandas\\io\\parsers\\readers.py:680\u001b[0m, in \u001b[0;36mread_csv\u001b[1;34m(filepath_or_buffer, sep, delimiter, header, names, index_col, usecols, squeeze, prefix, mangle_dupe_cols, dtype, engine, converters, true_values, false_values, skipinitialspace, skiprows, skipfooter, nrows, na_values, keep_default_na, na_filter, verbose, skip_blank_lines, parse_dates, infer_datetime_format, keep_date_col, date_parser, dayfirst, cache_dates, iterator, chunksize, compression, thousands, decimal, lineterminator, quotechar, quoting, doublequote, escapechar, comment, encoding, encoding_errors, dialect, error_bad_lines, warn_bad_lines, on_bad_lines, delim_whitespace, low_memory, memory_map, float_precision, storage_options)\u001b[0m\n\u001b[0;32m    665\u001b[0m kwds_defaults \u001b[38;5;241m=\u001b[39m _refine_defaults_read(\n\u001b[0;32m    666\u001b[0m     dialect,\n\u001b[0;32m    667\u001b[0m     delimiter,\n\u001b[1;32m   (...)\u001b[0m\n\u001b[0;32m    676\u001b[0m     defaults\u001b[38;5;241m=\u001b[39m{\u001b[38;5;124m\"\u001b[39m\u001b[38;5;124mdelimiter\u001b[39m\u001b[38;5;124m\"\u001b[39m: \u001b[38;5;124m\"\u001b[39m\u001b[38;5;124m,\u001b[39m\u001b[38;5;124m\"\u001b[39m},\n\u001b[0;32m    677\u001b[0m )\n\u001b[0;32m    678\u001b[0m kwds\u001b[38;5;241m.\u001b[39mupdate(kwds_defaults)\n\u001b[1;32m--> 680\u001b[0m \u001b[38;5;28;01mreturn\u001b[39;00m \u001b[43m_read\u001b[49m\u001b[43m(\u001b[49m\u001b[43mfilepath_or_buffer\u001b[49m\u001b[43m,\u001b[49m\u001b[43m \u001b[49m\u001b[43mkwds\u001b[49m\u001b[43m)\u001b[49m\n",
      "File \u001b[1;32m~\\anaconda3\\lib\\site-packages\\pandas\\io\\parsers\\readers.py:575\u001b[0m, in \u001b[0;36m_read\u001b[1;34m(filepath_or_buffer, kwds)\u001b[0m\n\u001b[0;32m    572\u001b[0m _validate_names(kwds\u001b[38;5;241m.\u001b[39mget(\u001b[38;5;124m\"\u001b[39m\u001b[38;5;124mnames\u001b[39m\u001b[38;5;124m\"\u001b[39m, \u001b[38;5;28;01mNone\u001b[39;00m))\n\u001b[0;32m    574\u001b[0m \u001b[38;5;66;03m# Create the parser.\u001b[39;00m\n\u001b[1;32m--> 575\u001b[0m parser \u001b[38;5;241m=\u001b[39m TextFileReader(filepath_or_buffer, \u001b[38;5;241m*\u001b[39m\u001b[38;5;241m*\u001b[39mkwds)\n\u001b[0;32m    577\u001b[0m \u001b[38;5;28;01mif\u001b[39;00m chunksize \u001b[38;5;129;01mor\u001b[39;00m iterator:\n\u001b[0;32m    578\u001b[0m     \u001b[38;5;28;01mreturn\u001b[39;00m parser\n",
      "File \u001b[1;32m~\\anaconda3\\lib\\site-packages\\pandas\\io\\parsers\\readers.py:933\u001b[0m, in \u001b[0;36mTextFileReader.__init__\u001b[1;34m(self, f, engine, **kwds)\u001b[0m\n\u001b[0;32m    930\u001b[0m     \u001b[38;5;28mself\u001b[39m\u001b[38;5;241m.\u001b[39moptions[\u001b[38;5;124m\"\u001b[39m\u001b[38;5;124mhas_index_names\u001b[39m\u001b[38;5;124m\"\u001b[39m] \u001b[38;5;241m=\u001b[39m kwds[\u001b[38;5;124m\"\u001b[39m\u001b[38;5;124mhas_index_names\u001b[39m\u001b[38;5;124m\"\u001b[39m]\n\u001b[0;32m    932\u001b[0m \u001b[38;5;28mself\u001b[39m\u001b[38;5;241m.\u001b[39mhandles: IOHandles \u001b[38;5;241m|\u001b[39m \u001b[38;5;28;01mNone\u001b[39;00m \u001b[38;5;241m=\u001b[39m \u001b[38;5;28;01mNone\u001b[39;00m\n\u001b[1;32m--> 933\u001b[0m \u001b[38;5;28mself\u001b[39m\u001b[38;5;241m.\u001b[39m_engine \u001b[38;5;241m=\u001b[39m \u001b[38;5;28;43mself\u001b[39;49m\u001b[38;5;241;43m.\u001b[39;49m\u001b[43m_make_engine\u001b[49m\u001b[43m(\u001b[49m\u001b[43mf\u001b[49m\u001b[43m,\u001b[49m\u001b[43m \u001b[49m\u001b[38;5;28;43mself\u001b[39;49m\u001b[38;5;241;43m.\u001b[39;49m\u001b[43mengine\u001b[49m\u001b[43m)\u001b[49m\n",
      "File \u001b[1;32m~\\anaconda3\\lib\\site-packages\\pandas\\io\\parsers\\readers.py:1217\u001b[0m, in \u001b[0;36mTextFileReader._make_engine\u001b[1;34m(self, f, engine)\u001b[0m\n\u001b[0;32m   1213\u001b[0m     mode \u001b[38;5;241m=\u001b[39m \u001b[38;5;124m\"\u001b[39m\u001b[38;5;124mrb\u001b[39m\u001b[38;5;124m\"\u001b[39m\n\u001b[0;32m   1214\u001b[0m \u001b[38;5;66;03m# error: No overload variant of \"get_handle\" matches argument types\u001b[39;00m\n\u001b[0;32m   1215\u001b[0m \u001b[38;5;66;03m# \"Union[str, PathLike[str], ReadCsvBuffer[bytes], ReadCsvBuffer[str]]\"\u001b[39;00m\n\u001b[0;32m   1216\u001b[0m \u001b[38;5;66;03m# , \"str\", \"bool\", \"Any\", \"Any\", \"Any\", \"Any\", \"Any\"\u001b[39;00m\n\u001b[1;32m-> 1217\u001b[0m \u001b[38;5;28mself\u001b[39m\u001b[38;5;241m.\u001b[39mhandles \u001b[38;5;241m=\u001b[39m \u001b[43mget_handle\u001b[49m\u001b[43m(\u001b[49m\u001b[43m  \u001b[49m\u001b[38;5;66;43;03m# type: ignore[call-overload]\u001b[39;49;00m\n\u001b[0;32m   1218\u001b[0m \u001b[43m    \u001b[49m\u001b[43mf\u001b[49m\u001b[43m,\u001b[49m\n\u001b[0;32m   1219\u001b[0m \u001b[43m    \u001b[49m\u001b[43mmode\u001b[49m\u001b[43m,\u001b[49m\n\u001b[0;32m   1220\u001b[0m \u001b[43m    \u001b[49m\u001b[43mencoding\u001b[49m\u001b[38;5;241;43m=\u001b[39;49m\u001b[38;5;28;43mself\u001b[39;49m\u001b[38;5;241;43m.\u001b[39;49m\u001b[43moptions\u001b[49m\u001b[38;5;241;43m.\u001b[39;49m\u001b[43mget\u001b[49m\u001b[43m(\u001b[49m\u001b[38;5;124;43m\"\u001b[39;49m\u001b[38;5;124;43mencoding\u001b[39;49m\u001b[38;5;124;43m\"\u001b[39;49m\u001b[43m,\u001b[49m\u001b[43m \u001b[49m\u001b[38;5;28;43;01mNone\u001b[39;49;00m\u001b[43m)\u001b[49m\u001b[43m,\u001b[49m\n\u001b[0;32m   1221\u001b[0m \u001b[43m    \u001b[49m\u001b[43mcompression\u001b[49m\u001b[38;5;241;43m=\u001b[39;49m\u001b[38;5;28;43mself\u001b[39;49m\u001b[38;5;241;43m.\u001b[39;49m\u001b[43moptions\u001b[49m\u001b[38;5;241;43m.\u001b[39;49m\u001b[43mget\u001b[49m\u001b[43m(\u001b[49m\u001b[38;5;124;43m\"\u001b[39;49m\u001b[38;5;124;43mcompression\u001b[39;49m\u001b[38;5;124;43m\"\u001b[39;49m\u001b[43m,\u001b[49m\u001b[43m \u001b[49m\u001b[38;5;28;43;01mNone\u001b[39;49;00m\u001b[43m)\u001b[49m\u001b[43m,\u001b[49m\n\u001b[0;32m   1222\u001b[0m \u001b[43m    \u001b[49m\u001b[43mmemory_map\u001b[49m\u001b[38;5;241;43m=\u001b[39;49m\u001b[38;5;28;43mself\u001b[39;49m\u001b[38;5;241;43m.\u001b[39;49m\u001b[43moptions\u001b[49m\u001b[38;5;241;43m.\u001b[39;49m\u001b[43mget\u001b[49m\u001b[43m(\u001b[49m\u001b[38;5;124;43m\"\u001b[39;49m\u001b[38;5;124;43mmemory_map\u001b[39;49m\u001b[38;5;124;43m\"\u001b[39;49m\u001b[43m,\u001b[49m\u001b[43m \u001b[49m\u001b[38;5;28;43;01mFalse\u001b[39;49;00m\u001b[43m)\u001b[49m\u001b[43m,\u001b[49m\n\u001b[0;32m   1223\u001b[0m \u001b[43m    \u001b[49m\u001b[43mis_text\u001b[49m\u001b[38;5;241;43m=\u001b[39;49m\u001b[43mis_text\u001b[49m\u001b[43m,\u001b[49m\n\u001b[0;32m   1224\u001b[0m \u001b[43m    \u001b[49m\u001b[43merrors\u001b[49m\u001b[38;5;241;43m=\u001b[39;49m\u001b[38;5;28;43mself\u001b[39;49m\u001b[38;5;241;43m.\u001b[39;49m\u001b[43moptions\u001b[49m\u001b[38;5;241;43m.\u001b[39;49m\u001b[43mget\u001b[49m\u001b[43m(\u001b[49m\u001b[38;5;124;43m\"\u001b[39;49m\u001b[38;5;124;43mencoding_errors\u001b[39;49m\u001b[38;5;124;43m\"\u001b[39;49m\u001b[43m,\u001b[49m\u001b[43m \u001b[49m\u001b[38;5;124;43m\"\u001b[39;49m\u001b[38;5;124;43mstrict\u001b[39;49m\u001b[38;5;124;43m\"\u001b[39;49m\u001b[43m)\u001b[49m\u001b[43m,\u001b[49m\n\u001b[0;32m   1225\u001b[0m \u001b[43m    \u001b[49m\u001b[43mstorage_options\u001b[49m\u001b[38;5;241;43m=\u001b[39;49m\u001b[38;5;28;43mself\u001b[39;49m\u001b[38;5;241;43m.\u001b[39;49m\u001b[43moptions\u001b[49m\u001b[38;5;241;43m.\u001b[39;49m\u001b[43mget\u001b[49m\u001b[43m(\u001b[49m\u001b[38;5;124;43m\"\u001b[39;49m\u001b[38;5;124;43mstorage_options\u001b[39;49m\u001b[38;5;124;43m\"\u001b[39;49m\u001b[43m,\u001b[49m\u001b[43m \u001b[49m\u001b[38;5;28;43;01mNone\u001b[39;49;00m\u001b[43m)\u001b[49m\u001b[43m,\u001b[49m\n\u001b[0;32m   1226\u001b[0m \u001b[43m\u001b[49m\u001b[43m)\u001b[49m\n\u001b[0;32m   1227\u001b[0m \u001b[38;5;28;01massert\u001b[39;00m \u001b[38;5;28mself\u001b[39m\u001b[38;5;241m.\u001b[39mhandles \u001b[38;5;129;01mis\u001b[39;00m \u001b[38;5;129;01mnot\u001b[39;00m \u001b[38;5;28;01mNone\u001b[39;00m\n\u001b[0;32m   1228\u001b[0m f \u001b[38;5;241m=\u001b[39m \u001b[38;5;28mself\u001b[39m\u001b[38;5;241m.\u001b[39mhandles\u001b[38;5;241m.\u001b[39mhandle\n",
      "File \u001b[1;32m~\\anaconda3\\lib\\site-packages\\pandas\\io\\common.py:789\u001b[0m, in \u001b[0;36mget_handle\u001b[1;34m(path_or_buf, mode, encoding, compression, memory_map, is_text, errors, storage_options)\u001b[0m\n\u001b[0;32m    784\u001b[0m \u001b[38;5;28;01melif\u001b[39;00m \u001b[38;5;28misinstance\u001b[39m(handle, \u001b[38;5;28mstr\u001b[39m):\n\u001b[0;32m    785\u001b[0m     \u001b[38;5;66;03m# Check whether the filename is to be opened in binary mode.\u001b[39;00m\n\u001b[0;32m    786\u001b[0m     \u001b[38;5;66;03m# Binary mode does not support 'encoding' and 'newline'.\u001b[39;00m\n\u001b[0;32m    787\u001b[0m     \u001b[38;5;28;01mif\u001b[39;00m ioargs\u001b[38;5;241m.\u001b[39mencoding \u001b[38;5;129;01mand\u001b[39;00m \u001b[38;5;124m\"\u001b[39m\u001b[38;5;124mb\u001b[39m\u001b[38;5;124m\"\u001b[39m \u001b[38;5;129;01mnot\u001b[39;00m \u001b[38;5;129;01min\u001b[39;00m ioargs\u001b[38;5;241m.\u001b[39mmode:\n\u001b[0;32m    788\u001b[0m         \u001b[38;5;66;03m# Encoding\u001b[39;00m\n\u001b[1;32m--> 789\u001b[0m         handle \u001b[38;5;241m=\u001b[39m \u001b[38;5;28;43mopen\u001b[39;49m\u001b[43m(\u001b[49m\n\u001b[0;32m    790\u001b[0m \u001b[43m            \u001b[49m\u001b[43mhandle\u001b[49m\u001b[43m,\u001b[49m\n\u001b[0;32m    791\u001b[0m \u001b[43m            \u001b[49m\u001b[43mioargs\u001b[49m\u001b[38;5;241;43m.\u001b[39;49m\u001b[43mmode\u001b[49m\u001b[43m,\u001b[49m\n\u001b[0;32m    792\u001b[0m \u001b[43m            \u001b[49m\u001b[43mencoding\u001b[49m\u001b[38;5;241;43m=\u001b[39;49m\u001b[43mioargs\u001b[49m\u001b[38;5;241;43m.\u001b[39;49m\u001b[43mencoding\u001b[49m\u001b[43m,\u001b[49m\n\u001b[0;32m    793\u001b[0m \u001b[43m            \u001b[49m\u001b[43merrors\u001b[49m\u001b[38;5;241;43m=\u001b[39;49m\u001b[43merrors\u001b[49m\u001b[43m,\u001b[49m\n\u001b[0;32m    794\u001b[0m \u001b[43m            \u001b[49m\u001b[43mnewline\u001b[49m\u001b[38;5;241;43m=\u001b[39;49m\u001b[38;5;124;43m\"\u001b[39;49m\u001b[38;5;124;43m\"\u001b[39;49m\u001b[43m,\u001b[49m\n\u001b[0;32m    795\u001b[0m \u001b[43m        \u001b[49m\u001b[43m)\u001b[49m\n\u001b[0;32m    796\u001b[0m     \u001b[38;5;28;01melse\u001b[39;00m:\n\u001b[0;32m    797\u001b[0m         \u001b[38;5;66;03m# Binary mode\u001b[39;00m\n\u001b[0;32m    798\u001b[0m         handle \u001b[38;5;241m=\u001b[39m \u001b[38;5;28mopen\u001b[39m(handle, ioargs\u001b[38;5;241m.\u001b[39mmode)\n",
      "\u001b[1;31mFileNotFoundError\u001b[0m: [Errno 2] No such file or directory: 'NewOriginal.csv'"
     ]
    }
   ],
   "source": [
    "standalones_imdb_df = pd.read_csv(\"NewOriginal.csv\")"
   ]
  },
  {
   "cell_type": "code",
   "execution_count": null,
   "id": "30dc5aaf",
   "metadata": {},
   "outputs": [],
   "source": [
    "standalones_imdb_df"
   ]
  },
  {
   "cell_type": "code",
   "execution_count": null,
   "id": "0decc413",
   "metadata": {},
   "outputs": [],
   "source": [
    "standalones_tmdb_df"
   ]
  },
  {
   "cell_type": "code",
   "execution_count": null,
   "id": "fe8bebb0",
   "metadata": {},
   "outputs": [],
   "source": [
    "standalones_df = pd.merge(standalones_tmdb_df, standalones_imdb_df, on=\"imdb_id\")"
   ]
  },
  {
   "cell_type": "code",
   "execution_count": null,
   "id": "7a3428f7",
   "metadata": {},
   "outputs": [],
   "source": [
    "def clean_awards(df, award_col_name):\n",
    "    \n",
    "    def parse_award_list(award):\n",
    "        # only keeping first line    \n",
    "        award = award.split(\"\\n\")[0].strip()\n",
    "        # removing things surrounded by brackets\n",
    "        award = re.sub(\"\\(.*?\\)|\\[.*?\\]\",\"\",award)\n",
    "        return award   \n",
    "\n",
    "    all_awards = []\n",
    "    keywords = [\"Best\", \"Most\", \"Top\", \"Worst\", \"Choice\", \"Original\", \"Favorite\"]\n",
    "\n",
    "    for index, row in df.iterrows():\n",
    "        remade_awards = row[award_col_name]\n",
    "\n",
    "        if type(remade_awards) == float:\n",
    "            all_awards.append([])\n",
    "            continue\n",
    "\n",
    "        awards = remade_awards.split(\",\")\n",
    "        x = list(map(parse_award_list,awards))\n",
    "        x = list(filter(None, x))\n",
    "\n",
    "        all_awards.append(x)\n",
    "\n",
    "    new_list_of_all_awards = []    \n",
    "\n",
    "    for awards in all_awards:\n",
    "        new_list_of_awards = []\n",
    "        for award in awards:   \n",
    "\n",
    "            for keyword in keywords:\n",
    "                if keyword in award:\n",
    "                    new_list_of_awards.append(award)\n",
    "                    continue\n",
    "        new_list_of_all_awards.append(new_list_of_awards)\n",
    "    return new_list_of_all_awards    "
   ]
  },
  {
   "cell_type": "code",
   "execution_count": null,
   "id": "698bc98a",
   "metadata": {},
   "outputs": [],
   "source": [
    "standalones_df[\"Movie Awards\"] = clean_awards(standalones_df, \"Movie Awards\")"
   ]
  },
  {
   "cell_type": "code",
   "execution_count": null,
   "id": "001105bf",
   "metadata": {},
   "outputs": [],
   "source": [
    "standalones_df"
   ]
  },
  {
   "cell_type": "code",
   "execution_count": null,
   "id": "122be0bc",
   "metadata": {},
   "outputs": [],
   "source": [
    "standalones_df.columns"
   ]
  },
  {
   "cell_type": "code",
   "execution_count": null,
   "id": "de23f567",
   "metadata": {},
   "outputs": [],
   "source": [
    "standalones_df[\"budget\"] = standalones_df[\"budget\"].replace(0, np.nan)\n",
    "standalones_df[\"budget\"] = standalones_df[\"revenue\"].replace(0, np.nan)"
   ]
  },
  {
   "cell_type": "code",
   "execution_count": null,
   "id": "f6f39d64",
   "metadata": {},
   "outputs": [],
   "source": [
    "standalones_df[\"z_vote_average\"] = stats.zscore(standalones_df[\"vote_average\"])\n",
    "standalones_df[\"z_vote_count\"] = stats.zscore(standalones_df[\"vote_count\"])\n",
    "standalones_df[\"z_popularity\"] = stats.zscore(standalones_df[\"popularity\"])\n",
    "standalones_df[\"z_budget\"] = stats.zscore(standalones_df[\"budget\"], nan_policy=\"omit\")\n",
    "standalones_df[\"z_revenue\"] = stats.zscore(standalones_df[\"revenue\"], nan_policy=\"omit\")"
   ]
  },
  {
   "cell_type": "code",
   "execution_count": null,
   "id": "60eedb97",
   "metadata": {},
   "outputs": [],
   "source": [
    "standalones_df.columns"
   ]
  },
  {
   "cell_type": "code",
   "execution_count": null,
   "id": "947c0dc1",
   "metadata": {},
   "outputs": [],
   "source": [
    "def get_year(date_string):\n",
    "    if type(date_string) == str:\n",
    "        return date_string[0:4]\n",
    "    return None"
   ]
  },
  {
   "cell_type": "code",
   "execution_count": null,
   "id": "d4be1f66",
   "metadata": {},
   "outputs": [],
   "source": [
    "# replacing NaNs and empty strings with \"0000-00-00\" so it can be converted into a year\n",
    "standalones_df[\"release_date\"] = (standalones_df[\"release_date\"].fillna(\"0000-00-00\")\n",
    "                           .replace(r'^\\s*$', \"0000-00-00\", regex=True))\n",
    "\n",
    "year_col = standalones_df[\"release_date\"].apply(lambda x: get_year(x))\n",
    "standalones_df.insert(4, \"release_year\", year_col)\n",
    "\n",
    "# replacing missing values with NaN\n",
    "standalones_df[\"release_year\"] = standalones_df[\"release_year\"].replace(\"0000\", np.nan, regex=True)"
   ]
  },
  {
   "cell_type": "code",
   "execution_count": null,
   "id": "b6cc323e",
   "metadata": {},
   "outputs": [],
   "source": [
    "def clean_list_of_dicts(list_of_dicts, dict_key):\n",
    "    new_list = []\n",
    "    for dict in list_of_dicts:\n",
    "        new_list.append(dict[dict_key])\n",
    "    return new_list    "
   ]
  },
  {
   "cell_type": "code",
   "execution_count": null,
   "id": "ba351acb",
   "metadata": {},
   "outputs": [],
   "source": [
    "standalones_df[\"genres\"] = standalones_df[\"genres\"].apply(lambda x: clean_list_of_dicts(x, \"name\"))\n",
    "standalones_df[\"production_companies\"] = standalones_df[\"production_companies\"].apply(lambda x: clean_list_of_dicts(x, \"name\"))\n",
    "standalones_df[\"production_countries\"] = standalones_df[\"production_countries\"].apply(lambda x: clean_list_of_dicts(x, \"name\"))"
   ]
  },
  {
   "cell_type": "code",
   "execution_count": null,
   "id": "a969e240",
   "metadata": {},
   "outputs": [],
   "source": [
    "standalones_df = standalones_df.rename(columns={\"id\": \"tmdb_id\"})"
   ]
  },
  {
   "cell_type": "code",
   "execution_count": null,
   "id": "473deec5",
   "metadata": {},
   "outputs": [],
   "source": [
    "standalones_df.columns "
   ]
  },
  {
   "cell_type": "code",
   "execution_count": null,
   "id": "c94ff668",
   "metadata": {},
   "outputs": [],
   "source": [
    "latex_df_1 = standalones_df[['title', 'imdb_id', 'tmdb_id', 'release_date', 'vote_average','vote_count', 'popularity']].head(10).style.to_latex()\n",
    "latex_df_2 = standalones_df[['budget', 'genres', 'production_countries']].head(10).style.to_latex()\n",
    "latex_df_3 = standalones_df[['Movie Box Office US/CA','Movie Box Office Worldwide','Movie Director Names']].head(10).style.to_latex()\n",
    "latex_df_4 = standalones_df[['Movie Cast Names', 'Movie Awards']].head(10).style.to_latex()"
   ]
  },
  {
   "cell_type": "code",
   "execution_count": null,
   "id": "d7349582",
   "metadata": {},
   "outputs": [],
   "source": [
    "print(latex_df_1)"
   ]
  },
  {
   "cell_type": "code",
   "execution_count": null,
   "id": "425c118b",
   "metadata": {},
   "outputs": [],
   "source": [
    "print(latex_df_2)"
   ]
  },
  {
   "cell_type": "code",
   "execution_count": null,
   "id": "da502b2a",
   "metadata": {},
   "outputs": [],
   "source": [
    "print(latex_df_3)"
   ]
  },
  {
   "cell_type": "code",
   "execution_count": null,
   "id": "ed1e25b8",
   "metadata": {},
   "outputs": [],
   "source": [
    "print(latex_df_4)"
   ]
  },
  {
   "cell_type": "code",
   "execution_count": null,
   "id": "a3cf903d",
   "metadata": {},
   "outputs": [],
   "source": [
    "#standalones_df.to_csv(\"standalones_data.csv\")"
   ]
  }
 ],
 "metadata": {
  "kernelspec": {
   "display_name": "Python 3 (ipykernel)",
   "language": "python",
   "name": "python3"
  },
  "language_info": {
   "codemirror_mode": {
    "name": "ipython",
    "version": 3
   },
   "file_extension": ".py",
   "mimetype": "text/x-python",
   "name": "python",
   "nbconvert_exporter": "python",
   "pygments_lexer": "ipython3",
   "version": "3.9.12"
  }
 },
 "nbformat": 4,
 "nbformat_minor": 5
}
