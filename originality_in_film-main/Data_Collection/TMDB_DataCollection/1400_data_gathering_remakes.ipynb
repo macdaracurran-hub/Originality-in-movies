{
 "cells": [
  {
   "cell_type": "markdown",
   "id": "3bcded0f",
   "metadata": {},
   "source": [
    "## This notebook gathers remake movie data from TMDB."
   ]
  },
  {
   "cell_type": "code",
   "execution_count": 2,
   "id": "2e63a801",
   "metadata": {},
   "outputs": [],
   "source": [
    "import urllib.request\n",
    "import json\n",
    "import pandas as pd\n",
    "from datetime import datetime\n",
    "import numpy as np\n",
    "from loguru import logger\n",
    "from IPython.display import clear_output\n",
    "import requests\n",
    "import re\n",
    "from scipy import stats\n",
    "\n",
    "pd.options.mode.chained_assignment = None\n",
    "tmdb_key = \"ad63716b3506edd1aaa3aef6c8ebd46b\""
   ]
  },
  {
   "cell_type": "code",
   "execution_count": 3,
   "id": "962a6bd5",
   "metadata": {},
   "outputs": [],
   "source": [
    "remake_imdb_df = pd.read_csv(\"RemadeOutput.csv\")"
   ]
  },
  {
   "cell_type": "markdown",
   "id": "33d25507",
   "metadata": {},
   "source": [
    "Filtering so we have a dataframe only containing the originals and remakes IMDB id."
   ]
  },
  {
   "cell_type": "code",
   "execution_count": 4,
   "id": "913bd693",
   "metadata": {},
   "outputs": [],
   "source": [
    "df = remake_imdb_df[[\"oIMDb\", \"rIMDb\"]]"
   ]
  },
  {
   "cell_type": "code",
   "execution_count": 5,
   "id": "93000336",
   "metadata": {},
   "outputs": [],
   "source": [
    "def get_tmdb_id(json_data):\n",
    "    try:\n",
    "        return json_data[\"movie_results\"][0][\"id\"]\n",
    "    except:\n",
    "        return None"
   ]
  },
  {
   "cell_type": "code",
   "execution_count": 6,
   "id": "ccdeb589",
   "metadata": {},
   "outputs": [],
   "source": [
    "def get_data(prefix, get_json_fun):\n",
    "    movie_json = fetch(prefix, {\"external_source\":\"imdb_id\"})\n",
    "    data = get_json_fun(movie_json)\n",
    "    if data == None:\n",
    "        return None\n",
    "    return str(data)"
   ]
  },
  {
   "cell_type": "code",
   "execution_count": 7,
   "id": "b3842191",
   "metadata": {},
   "outputs": [],
   "source": [
    "def add_new_col_to_df(df, prefix, existing_df_col_name, get_json_fun, new_col_name):\n",
    "\n",
    "    df[new_col_name] = df.apply(lambda x: get_data(prefix + x[existing_df_col_name], get_json_fun), axis =1)\n",
    "    df = df.dropna()\n",
    "\n",
    "    return df"
   ]
  },
  {
   "cell_type": "code",
   "execution_count": 8,
   "id": "24c2ae55",
   "metadata": {},
   "outputs": [],
   "source": [
    "# this method makes requests to tmdb's api and returns the resulting json. If there is an error then returns nan instead.\n",
    "\n",
    "def fetch(endpoint, params={}):\n",
    "    # construct the url\n",
    "    api_prefix = \"https://api.themoviedb.org/3\"\n",
    "    url = api_prefix\n",
    "    \n",
    "    if not endpoint.startswith(\"/\"):\n",
    "        url += \"/\"\n",
    "    \n",
    "    url += endpoint\n",
    "    \n",
    "    params[\"api_key\"] = tmdb_key\n",
    "    url += \"?\" + urllib.parse.urlencode(params)\n",
    "    \n",
    "    clear_output()\n",
    "    logger.info(url)\n",
    "\n",
    "    try:\n",
    "        response = urllib.request.urlopen(url)\n",
    "        raw_json = response.read().decode(\"utf-8\")\n",
    "        return json.loads(raw_json)\n",
    "    # if an error occured return None \n",
    "    except:\n",
    "        return np.nan"
   ]
  },
  {
   "cell_type": "markdown",
   "id": "2a72116f",
   "metadata": {},
   "source": [
    "Adding a column storing the TMDB IDs of originals. "
   ]
  },
  {
   "cell_type": "code",
   "execution_count": 9,
   "id": "3da6a591",
   "metadata": {},
   "outputs": [
    {
     "name": "stderr",
     "output_type": "stream",
     "text": [
      "2023-05-18 13:24:55.284 | INFO     | __main__:fetch:17 - https://api.themoviedb.org/3/find/tt0051221?external_source=imdb_id&api_key=ad63716b3506edd1aaa3aef6c8ebd46b\n"
     ]
    }
   ],
   "source": [
    "remake_tmdb_df = add_new_col_to_df(df, \"/find/\", \"oIMDb\", get_tmdb_id, \"oTMDB\")"
   ]
  },
  {
   "cell_type": "markdown",
   "id": "fee35c00",
   "metadata": {},
   "source": [
    "Adding a column storing the TMDB IDs of remakes. "
   ]
  },
  {
   "cell_type": "code",
   "execution_count": 10,
   "id": "8242e06e",
   "metadata": {},
   "outputs": [
    {
     "name": "stderr",
     "output_type": "stream",
     "text": [
      "2023-05-18 13:25:41.887 | INFO     | __main__:fetch:17 - https://api.themoviedb.org/3/find/tt0067844?external_source=imdb_id&api_key=ad63716b3506edd1aaa3aef6c8ebd46b\n"
     ]
    }
   ],
   "source": [
    "remake_tmdb_df = add_new_col_to_df(df, \"/find/\", \"rIMDb\", get_tmdb_id, \"rTMDB\")"
   ]
  },
  {
   "cell_type": "markdown",
   "id": "3e34f035",
   "metadata": {},
   "source": [
    "Now we search for each original and remake in TMDB using their TMDB IDs"
   ]
  },
  {
   "cell_type": "code",
   "execution_count": 12,
   "id": "f4ae1f45",
   "metadata": {},
   "outputs": [
    {
     "name": "stderr",
     "output_type": "stream",
     "text": [
      "2023-05-18 13:28:40.082 | INFO     | __main__:fetch:17 - https://api.themoviedb.org/3/movie/237520?api_key=ad63716b3506edd1aaa3aef6c8ebd46b\n"
     ]
    }
   ],
   "source": [
    "list_of_movie_jsons = []\n",
    "is_original = []\n",
    "\n",
    "for index, row in remake_tmdb_df.iterrows():\n",
    "    endpoint = \"/movie/\" + row[\"oTMDB\"]\n",
    "    response = fetch(endpoint)\n",
    "    \n",
    "    list_of_movie_jsons.append(response)\n",
    "    \n",
    "    # this column helps us know if a movie was an originalmovie or remake\n",
    "    is_original.append(1)\n",
    "    \n",
    "    endpoint = \"/movie/\" + row[\"rTMDB\"]\n",
    "    response = fetch(endpoint)\n",
    "    is_original.append(0)\n",
    "    \n",
    "    list_of_movie_jsons.append(response)\n",
    "    \n",
    "    \n",
    "remake_tmdb_df = pd.DataFrame(list_of_movie_jsons) \n",
    "remake_tmdb_df[\"is_original\"] = is_original "
   ]
  },
  {
   "cell_type": "code",
   "execution_count": 13,
   "id": "c11c80aa",
   "metadata": {},
   "outputs": [
    {
     "data": {
      "text/plain": [
       "Index(['adult', 'backdrop_path', 'belongs_to_collection', 'budget', 'genres',\n",
       "       'homepage', 'id', 'imdb_id', 'original_language', 'original_title',\n",
       "       'overview', 'popularity', 'poster_path', 'production_companies',\n",
       "       'production_countries', 'release_date', 'revenue', 'runtime',\n",
       "       'spoken_languages', 'status', 'tagline', 'title', 'video',\n",
       "       'vote_average', 'vote_count', 'is_original'],\n",
       "      dtype='object')"
      ]
     },
     "execution_count": 13,
     "metadata": {},
     "output_type": "execute_result"
    }
   ],
   "source": [
    "remake_tmdb_df.columns"
   ]
  },
  {
   "cell_type": "code",
   "execution_count": 14,
   "id": "44022873",
   "metadata": {},
   "outputs": [
    {
     "data": {
      "text/html": [
       "<div>\n",
       "<style scoped>\n",
       "    .dataframe tbody tr th:only-of-type {\n",
       "        vertical-align: middle;\n",
       "    }\n",
       "\n",
       "    .dataframe tbody tr th {\n",
       "        vertical-align: top;\n",
       "    }\n",
       "\n",
       "    .dataframe thead th {\n",
       "        text-align: right;\n",
       "    }\n",
       "</style>\n",
       "<table border=\"1\" class=\"dataframe\">\n",
       "  <thead>\n",
       "    <tr style=\"text-align: right;\">\n",
       "      <th></th>\n",
       "      <th>original_title</th>\n",
       "      <th>is_original</th>\n",
       "      <th>imdb_id</th>\n",
       "      <th>id</th>\n",
       "      <th>release_date</th>\n",
       "      <th>runtime</th>\n",
       "      <th>vote_average</th>\n",
       "      <th>vote_count</th>\n",
       "      <th>popularity</th>\n",
       "      <th>budget</th>\n",
       "      <th>revenue</th>\n",
       "      <th>genres</th>\n",
       "      <th>original_language</th>\n",
       "      <th>production_companies</th>\n",
       "      <th>production_countries</th>\n",
       "    </tr>\n",
       "  </thead>\n",
       "  <tbody>\n",
       "    <tr>\n",
       "      <th>0</th>\n",
       "      <td>十三人の刺客</td>\n",
       "      <td>1</td>\n",
       "      <td>tt0057212</td>\n",
       "      <td>52011</td>\n",
       "      <td>1963-12-07</td>\n",
       "      <td>125</td>\n",
       "      <td>7.400</td>\n",
       "      <td>27</td>\n",
       "      <td>4.123</td>\n",
       "      <td>0</td>\n",
       "      <td>0</td>\n",
       "      <td>[{'id': 12, 'name': 'Adventure'}, {'id': 28, '...</td>\n",
       "      <td>ja</td>\n",
       "      <td>[{'id': 5822, 'logo_path': '/qyTbRgCyU9NLKvKai...</td>\n",
       "      <td>[{'iso_3166_1': 'JP', 'name': 'Japan'}]</td>\n",
       "    </tr>\n",
       "    <tr>\n",
       "      <th>1</th>\n",
       "      <td>十三人の刺客</td>\n",
       "      <td>0</td>\n",
       "      <td>tt1436045</td>\n",
       "      <td>58857</td>\n",
       "      <td>2010-09-09</td>\n",
       "      <td>141</td>\n",
       "      <td>7.286</td>\n",
       "      <td>960</td>\n",
       "      <td>17.068</td>\n",
       "      <td>6000000</td>\n",
       "      <td>17555141</td>\n",
       "      <td>[{'id': 12, 'name': 'Adventure'}, {'id': 18, '...</td>\n",
       "      <td>ja</td>\n",
       "      <td>[{'id': 882, 'logo_path': '/iDw9Xxok1d9WAM2zFi...</td>\n",
       "      <td>[{'iso_3166_1': 'JP', 'name': 'Japan'}, {'iso_...</td>\n",
       "    </tr>\n",
       "    <tr>\n",
       "      <th>2</th>\n",
       "      <td>13 Ghosts</td>\n",
       "      <td>1</td>\n",
       "      <td>tt0053559</td>\n",
       "      <td>29756</td>\n",
       "      <td>1960-07-18</td>\n",
       "      <td>85</td>\n",
       "      <td>5.800</td>\n",
       "      <td>120</td>\n",
       "      <td>10.017</td>\n",
       "      <td>0</td>\n",
       "      <td>0</td>\n",
       "      <td>[{'id': 27, 'name': 'Horror'}]</td>\n",
       "      <td>en</td>\n",
       "      <td>[{'id': 10324, 'logo_path': None, 'name': 'Wil...</td>\n",
       "      <td>[{'iso_3166_1': 'US', 'name': 'United States o...</td>\n",
       "    </tr>\n",
       "    <tr>\n",
       "      <th>3</th>\n",
       "      <td>Thir13en Ghosts</td>\n",
       "      <td>0</td>\n",
       "      <td>tt0245674</td>\n",
       "      <td>9378</td>\n",
       "      <td>2001-10-26</td>\n",
       "      <td>91</td>\n",
       "      <td>6.214</td>\n",
       "      <td>1819</td>\n",
       "      <td>26.834</td>\n",
       "      <td>42000000</td>\n",
       "      <td>68467960</td>\n",
       "      <td>[{'id': 27, 'name': 'Horror'}, {'id': 53, 'nam...</td>\n",
       "      <td>en</td>\n",
       "      <td>[{'id': 1786, 'logo_path': '/joLFuCWg9e2lweYnF...</td>\n",
       "      <td>[{'iso_3166_1': 'CA', 'name': 'Canada'}, {'iso...</td>\n",
       "    </tr>\n",
       "    <tr>\n",
       "      <th>4</th>\n",
       "      <td>13 Tzameti</td>\n",
       "      <td>1</td>\n",
       "      <td>tt0475169</td>\n",
       "      <td>6077</td>\n",
       "      <td>2005-09-01</td>\n",
       "      <td>93</td>\n",
       "      <td>7.036</td>\n",
       "      <td>195</td>\n",
       "      <td>7.993</td>\n",
       "      <td>0</td>\n",
       "      <td>767311</td>\n",
       "      <td>[{'id': 28, 'name': 'Action'}, {'id': 53, 'nam...</td>\n",
       "      <td>fr</td>\n",
       "      <td>[{'id': 1990, 'logo_path': None, 'name': 'Welt...</td>\n",
       "      <td>[{'iso_3166_1': 'FR', 'name': 'France'}]</td>\n",
       "    </tr>\n",
       "    <tr>\n",
       "      <th>...</th>\n",
       "      <td>...</td>\n",
       "      <td>...</td>\n",
       "      <td>...</td>\n",
       "      <td>...</td>\n",
       "      <td>...</td>\n",
       "      <td>...</td>\n",
       "      <td>...</td>\n",
       "      <td>...</td>\n",
       "      <td>...</td>\n",
       "      <td>...</td>\n",
       "      <td>...</td>\n",
       "      <td>...</td>\n",
       "      <td>...</td>\n",
       "      <td>...</td>\n",
       "      <td>...</td>\n",
       "    </tr>\n",
       "    <tr>\n",
       "      <th>1191</th>\n",
       "      <td>Per un pugno di dollari</td>\n",
       "      <td>0</td>\n",
       "      <td>tt0058461</td>\n",
       "      <td>391</td>\n",
       "      <td>1964-01-18</td>\n",
       "      <td>99</td>\n",
       "      <td>7.900</td>\n",
       "      <td>3648</td>\n",
       "      <td>21.513</td>\n",
       "      <td>200000</td>\n",
       "      <td>14500000</td>\n",
       "      <td>[{'id': 37, 'name': 'Western'}]</td>\n",
       "      <td>it</td>\n",
       "      <td>[{'id': 10481, 'logo_path': None, 'name': 'Jol...</td>\n",
       "      <td>[{'iso_3166_1': 'DE', 'name': 'Germany'}, {'is...</td>\n",
       "    </tr>\n",
       "    <tr>\n",
       "      <th>1192</th>\n",
       "      <td>Yours, Mine and Ours</td>\n",
       "      <td>1</td>\n",
       "      <td>tt0063829</td>\n",
       "      <td>27983</td>\n",
       "      <td>1968-04-24</td>\n",
       "      <td>111</td>\n",
       "      <td>6.759</td>\n",
       "      <td>116</td>\n",
       "      <td>11.465</td>\n",
       "      <td>0</td>\n",
       "      <td>0</td>\n",
       "      <td>[{'id': 35, 'name': 'Comedy'}, {'id': 10751, '...</td>\n",
       "      <td>en</td>\n",
       "      <td>[{'id': 60537, 'logo_path': None, 'name': 'Wal...</td>\n",
       "      <td>[{'iso_3166_1': 'US', 'name': 'United States o...</td>\n",
       "    </tr>\n",
       "    <tr>\n",
       "      <th>1193</th>\n",
       "      <td>Yours, Mine &amp; Ours</td>\n",
       "      <td>0</td>\n",
       "      <td>tt0443295</td>\n",
       "      <td>13499</td>\n",
       "      <td>2005-11-23</td>\n",
       "      <td>90</td>\n",
       "      <td>6.147</td>\n",
       "      <td>751</td>\n",
       "      <td>11.148</td>\n",
       "      <td>45000000</td>\n",
       "      <td>72028752</td>\n",
       "      <td>[{'id': 35, 'name': 'Comedy'}, {'id': 10751, '...</td>\n",
       "      <td>en</td>\n",
       "      <td>[{'id': 2348, 'logo_path': '/oydqrfwRAm6qqdYbx...</td>\n",
       "      <td>[{'iso_3166_1': 'US', 'name': 'United States o...</td>\n",
       "    </tr>\n",
       "    <tr>\n",
       "      <th>1194</th>\n",
       "      <td>Zero Hour!</td>\n",
       "      <td>1</td>\n",
       "      <td>tt0051221</td>\n",
       "      <td>54541</td>\n",
       "      <td>1957-11-13</td>\n",
       "      <td>81</td>\n",
       "      <td>6.800</td>\n",
       "      <td>32</td>\n",
       "      <td>4.590</td>\n",
       "      <td>0</td>\n",
       "      <td>0</td>\n",
       "      <td>[{'id': 18, 'name': 'Drama'}, {'id': 53, 'name...</td>\n",
       "      <td>en</td>\n",
       "      <td>[{'id': 5695, 'logo_path': None, 'name': 'Carm...</td>\n",
       "      <td>[{'iso_3166_1': 'US', 'name': 'United States o...</td>\n",
       "    </tr>\n",
       "    <tr>\n",
       "      <th>1195</th>\n",
       "      <td>Terror in the Sky</td>\n",
       "      <td>0</td>\n",
       "      <td>tt0067844</td>\n",
       "      <td>237520</td>\n",
       "      <td>1971-09-17</td>\n",
       "      <td>74</td>\n",
       "      <td>7.000</td>\n",
       "      <td>5</td>\n",
       "      <td>1.359</td>\n",
       "      <td>0</td>\n",
       "      <td>0</td>\n",
       "      <td>[{'id': 18, 'name': 'Drama'}, {'id': 10770, 'n...</td>\n",
       "      <td>en</td>\n",
       "      <td>[{'id': 9223, 'logo_path': '/of4mmVt6egYaO9oER...</td>\n",
       "      <td>[{'iso_3166_1': 'US', 'name': 'United States o...</td>\n",
       "    </tr>\n",
       "  </tbody>\n",
       "</table>\n",
       "<p>1196 rows × 15 columns</p>\n",
       "</div>"
      ],
      "text/plain": [
       "               original_title  is_original    imdb_id      id release_date  \\\n",
       "0                      十三人の刺客            1  tt0057212   52011   1963-12-07   \n",
       "1                      十三人の刺客            0  tt1436045   58857   2010-09-09   \n",
       "2                   13 Ghosts            1  tt0053559   29756   1960-07-18   \n",
       "3             Thir13en Ghosts            0  tt0245674    9378   2001-10-26   \n",
       "4                  13 Tzameti            1  tt0475169    6077   2005-09-01   \n",
       "...                       ...          ...        ...     ...          ...   \n",
       "1191  Per un pugno di dollari            0  tt0058461     391   1964-01-18   \n",
       "1192     Yours, Mine and Ours            1  tt0063829   27983   1968-04-24   \n",
       "1193       Yours, Mine & Ours            0  tt0443295   13499   2005-11-23   \n",
       "1194               Zero Hour!            1  tt0051221   54541   1957-11-13   \n",
       "1195        Terror in the Sky            0  tt0067844  237520   1971-09-17   \n",
       "\n",
       "      runtime  vote_average  vote_count  popularity    budget   revenue  \\\n",
       "0         125         7.400          27       4.123         0         0   \n",
       "1         141         7.286         960      17.068   6000000  17555141   \n",
       "2          85         5.800         120      10.017         0         0   \n",
       "3          91         6.214        1819      26.834  42000000  68467960   \n",
       "4          93         7.036         195       7.993         0    767311   \n",
       "...       ...           ...         ...         ...       ...       ...   \n",
       "1191       99         7.900        3648      21.513    200000  14500000   \n",
       "1192      111         6.759         116      11.465         0         0   \n",
       "1193       90         6.147         751      11.148  45000000  72028752   \n",
       "1194       81         6.800          32       4.590         0         0   \n",
       "1195       74         7.000           5       1.359         0         0   \n",
       "\n",
       "                                                 genres original_language  \\\n",
       "0     [{'id': 12, 'name': 'Adventure'}, {'id': 28, '...                ja   \n",
       "1     [{'id': 12, 'name': 'Adventure'}, {'id': 18, '...                ja   \n",
       "2                        [{'id': 27, 'name': 'Horror'}]                en   \n",
       "3     [{'id': 27, 'name': 'Horror'}, {'id': 53, 'nam...                en   \n",
       "4     [{'id': 28, 'name': 'Action'}, {'id': 53, 'nam...                fr   \n",
       "...                                                 ...               ...   \n",
       "1191                    [{'id': 37, 'name': 'Western'}]                it   \n",
       "1192  [{'id': 35, 'name': 'Comedy'}, {'id': 10751, '...                en   \n",
       "1193  [{'id': 35, 'name': 'Comedy'}, {'id': 10751, '...                en   \n",
       "1194  [{'id': 18, 'name': 'Drama'}, {'id': 53, 'name...                en   \n",
       "1195  [{'id': 18, 'name': 'Drama'}, {'id': 10770, 'n...                en   \n",
       "\n",
       "                                   production_companies  \\\n",
       "0     [{'id': 5822, 'logo_path': '/qyTbRgCyU9NLKvKai...   \n",
       "1     [{'id': 882, 'logo_path': '/iDw9Xxok1d9WAM2zFi...   \n",
       "2     [{'id': 10324, 'logo_path': None, 'name': 'Wil...   \n",
       "3     [{'id': 1786, 'logo_path': '/joLFuCWg9e2lweYnF...   \n",
       "4     [{'id': 1990, 'logo_path': None, 'name': 'Welt...   \n",
       "...                                                 ...   \n",
       "1191  [{'id': 10481, 'logo_path': None, 'name': 'Jol...   \n",
       "1192  [{'id': 60537, 'logo_path': None, 'name': 'Wal...   \n",
       "1193  [{'id': 2348, 'logo_path': '/oydqrfwRAm6qqdYbx...   \n",
       "1194  [{'id': 5695, 'logo_path': None, 'name': 'Carm...   \n",
       "1195  [{'id': 9223, 'logo_path': '/of4mmVt6egYaO9oER...   \n",
       "\n",
       "                                   production_countries  \n",
       "0               [{'iso_3166_1': 'JP', 'name': 'Japan'}]  \n",
       "1     [{'iso_3166_1': 'JP', 'name': 'Japan'}, {'iso_...  \n",
       "2     [{'iso_3166_1': 'US', 'name': 'United States o...  \n",
       "3     [{'iso_3166_1': 'CA', 'name': 'Canada'}, {'iso...  \n",
       "4              [{'iso_3166_1': 'FR', 'name': 'France'}]  \n",
       "...                                                 ...  \n",
       "1191  [{'iso_3166_1': 'DE', 'name': 'Germany'}, {'is...  \n",
       "1192  [{'iso_3166_1': 'US', 'name': 'United States o...  \n",
       "1193  [{'iso_3166_1': 'US', 'name': 'United States o...  \n",
       "1194  [{'iso_3166_1': 'US', 'name': 'United States o...  \n",
       "1195  [{'iso_3166_1': 'US', 'name': 'United States o...  \n",
       "\n",
       "[1196 rows x 15 columns]"
      ]
     },
     "execution_count": 14,
     "metadata": {},
     "output_type": "execute_result"
    }
   ],
   "source": [
    "remake_tmdb_df = remake_tmdb_df[['original_title','is_original', \"imdb_id\", 'id','release_date', 'runtime','vote_average','vote_count', 'popularity', 'budget', \n",
    "                    'revenue', 'genres','original_language', 'production_companies', \n",
    "                    'production_countries']]\n",
    "remake_tmdb_df"
   ]
  },
  {
   "cell_type": "code",
   "execution_count": null,
   "id": "d547743a",
   "metadata": {},
   "outputs": [],
   "source": []
  },
  {
   "cell_type": "code",
   "execution_count": 15,
   "id": "e9e8d70f",
   "metadata": {},
   "outputs": [],
   "source": [
    "# renaming column to avoid confusion\n",
    "remake_tmdb_df = remake_tmdb_df.rename(columns={\"original_title\": \"title\"})"
   ]
  },
  {
   "cell_type": "markdown",
   "id": "84bd7094",
   "metadata": {},
   "source": [
    "Seperating the dataframe into a remake only dataframe and a original only dataframel."
   ]
  },
  {
   "cell_type": "code",
   "execution_count": 16,
   "id": "96f8673c",
   "metadata": {},
   "outputs": [],
   "source": [
    "originals_df = remake_tmdb_df[remake_tmdb_df[\"is_original\"] == 1].reset_index()\n",
    "remakes_df = remake_tmdb_df[remake_tmdb_df[\"is_original\"] == 0].reset_index()"
   ]
  },
  {
   "cell_type": "markdown",
   "id": "7033699e",
   "metadata": {},
   "source": [
    "The movies in the dataframe were ordered such that if the index n was an original movie then index n+1 would be the remake corresponding to the movie at index n. Therefore by subtracting 1 from the remakes indices we will have a common index with their original movie. This allows us to join the movies by index to create a row with data for both the original movie and their remake."
   ]
  },
  {
   "cell_type": "code",
   "execution_count": 17,
   "id": "4215dd99",
   "metadata": {},
   "outputs": [],
   "source": [
    "remakes_df[\"index\"] -= 1\n",
    "\n",
    "tmdb_complete_df = pd.merge(originals_df,remakes_df, how='left' ,on = \"index\", suffixes = ('_original', '_remake'))\n",
    "tmdb_complete_df = tmdb_complete_df.drop([\"index\",\"is_original_original\", \"is_original_remake\"], axis=1)"
   ]
  },
  {
   "cell_type": "markdown",
   "id": "c04b9ccb",
   "metadata": {},
   "source": [
    "Here is a sample of our dataframe so we can confirm that the original movies and remakes match."
   ]
  },
  {
   "cell_type": "code",
   "execution_count": 18,
   "id": "2025054a",
   "metadata": {},
   "outputs": [
    {
     "data": {
      "text/html": [
       "<div>\n",
       "<style scoped>\n",
       "    .dataframe tbody tr th:only-of-type {\n",
       "        vertical-align: middle;\n",
       "    }\n",
       "\n",
       "    .dataframe tbody tr th {\n",
       "        vertical-align: top;\n",
       "    }\n",
       "\n",
       "    .dataframe thead th {\n",
       "        text-align: right;\n",
       "    }\n",
       "</style>\n",
       "<table border=\"1\" class=\"dataframe\">\n",
       "  <thead>\n",
       "    <tr style=\"text-align: right;\">\n",
       "      <th></th>\n",
       "      <th>title_original</th>\n",
       "      <th>title_remake</th>\n",
       "    </tr>\n",
       "  </thead>\n",
       "  <tbody>\n",
       "    <tr>\n",
       "      <th>0</th>\n",
       "      <td>十三人の刺客</td>\n",
       "      <td>十三人の刺客</td>\n",
       "    </tr>\n",
       "    <tr>\n",
       "      <th>1</th>\n",
       "      <td>13 Ghosts</td>\n",
       "      <td>Thir13en Ghosts</td>\n",
       "    </tr>\n",
       "    <tr>\n",
       "      <th>2</th>\n",
       "      <td>13 Tzameti</td>\n",
       "      <td>13</td>\n",
       "    </tr>\n",
       "    <tr>\n",
       "      <th>3</th>\n",
       "      <td>3 Idiots</td>\n",
       "      <td>நண்பன்</td>\n",
       "    </tr>\n",
       "    <tr>\n",
       "      <th>4</th>\n",
       "      <td>3:10 to Yuma</td>\n",
       "      <td>3:10 to Yuma</td>\n",
       "    </tr>\n",
       "    <tr>\n",
       "      <th>5</th>\n",
       "      <td>36 Hours</td>\n",
       "      <td>Breaking Point</td>\n",
       "    </tr>\n",
       "    <tr>\n",
       "      <th>6</th>\n",
       "      <td>The 39 Steps</td>\n",
       "      <td>The 39 Steps</td>\n",
       "    </tr>\n",
       "    <tr>\n",
       "      <th>7</th>\n",
       "      <td>7th Heaven</td>\n",
       "      <td>Seventh Heaven</td>\n",
       "    </tr>\n",
       "    <tr>\n",
       "      <th>8</th>\n",
       "      <td>अर्थ</td>\n",
       "      <td>Arth : The Destination</td>\n",
       "    </tr>\n",
       "    <tr>\n",
       "      <th>9</th>\n",
       "      <td>The Absent-Minded Professor</td>\n",
       "      <td>Flubber</td>\n",
       "    </tr>\n",
       "    <tr>\n",
       "      <th>10</th>\n",
       "      <td>Adventures in Babysitting</td>\n",
       "      <td>Adventures in Babysitting</td>\n",
       "    </tr>\n",
       "    <tr>\n",
       "      <th>11</th>\n",
       "      <td>An Affair to Remember</td>\n",
       "      <td>Bheegi Raat</td>\n",
       "    </tr>\n",
       "    <tr>\n",
       "      <th>12</th>\n",
       "      <td>Aladdin</td>\n",
       "      <td>Aladdin</td>\n",
       "    </tr>\n",
       "    <tr>\n",
       "      <th>13</th>\n",
       "      <td>Alfie</td>\n",
       "      <td>Alfie</td>\n",
       "    </tr>\n",
       "    <tr>\n",
       "      <th>14</th>\n",
       "      <td>The Amityville Horror</td>\n",
       "      <td>The Amityville Horror</td>\n",
       "    </tr>\n",
       "    <tr>\n",
       "      <th>15</th>\n",
       "      <td>Anastasia</td>\n",
       "      <td>Anastasia</td>\n",
       "    </tr>\n",
       "    <tr>\n",
       "      <th>16</th>\n",
       "      <td>And Soon the Darkness</td>\n",
       "      <td>And Soon the Darkness</td>\n",
       "    </tr>\n",
       "    <tr>\n",
       "      <th>17</th>\n",
       "      <td>Angels in the Outfield</td>\n",
       "      <td>Angels in the Outfield</td>\n",
       "    </tr>\n",
       "    <tr>\n",
       "      <th>18</th>\n",
       "      <td>Anthony Zimmer</td>\n",
       "      <td>The Tourist</td>\n",
       "    </tr>\n",
       "    <tr>\n",
       "      <th>19</th>\n",
       "      <td>Antropophagus</td>\n",
       "      <td>Anthropophagous 2000</td>\n",
       "    </tr>\n",
       "  </tbody>\n",
       "</table>\n",
       "</div>"
      ],
      "text/plain": [
       "                 title_original               title_remake\n",
       "0                        十三人の刺客                     十三人の刺客\n",
       "1                     13 Ghosts            Thir13en Ghosts\n",
       "2                    13 Tzameti                         13\n",
       "3                      3 Idiots                     நண்பன்\n",
       "4                  3:10 to Yuma               3:10 to Yuma\n",
       "5                      36 Hours             Breaking Point\n",
       "6                  The 39 Steps               The 39 Steps\n",
       "7                    7th Heaven             Seventh Heaven\n",
       "8                          अर्थ     Arth : The Destination\n",
       "9   The Absent-Minded Professor                    Flubber\n",
       "10    Adventures in Babysitting  Adventures in Babysitting\n",
       "11        An Affair to Remember                Bheegi Raat\n",
       "12                      Aladdin                    Aladdin\n",
       "13                        Alfie                      Alfie\n",
       "14        The Amityville Horror      The Amityville Horror\n",
       "15                    Anastasia                  Anastasia\n",
       "16        And Soon the Darkness      And Soon the Darkness\n",
       "17       Angels in the Outfield     Angels in the Outfield\n",
       "18               Anthony Zimmer                The Tourist\n",
       "19                Antropophagus       Anthropophagous 2000"
      ]
     },
     "execution_count": 18,
     "metadata": {},
     "output_type": "execute_result"
    }
   ],
   "source": [
    "tmdb_complete_df[[\"title_original\", \"title_remake\"]].head(20)"
   ]
  },
  {
   "cell_type": "markdown",
   "id": "64e35685",
   "metadata": {},
   "source": [
    "This is the information we collected for each movie from TMDB."
   ]
  },
  {
   "cell_type": "code",
   "execution_count": 19,
   "id": "8a5876a7",
   "metadata": {},
   "outputs": [
    {
     "data": {
      "text/plain": [
       "Index(['title_original', 'imdb_id_original', 'id_original',\n",
       "       'release_date_original', 'runtime_original', 'vote_average_original',\n",
       "       'vote_count_original', 'popularity_original', 'budget_original',\n",
       "       'revenue_original', 'genres_original', 'original_language_original',\n",
       "       'production_companies_original', 'production_countries_original',\n",
       "       'title_remake', 'imdb_id_remake', 'id_remake', 'release_date_remake',\n",
       "       'runtime_remake', 'vote_average_remake', 'vote_count_remake',\n",
       "       'popularity_remake', 'budget_remake', 'revenue_remake', 'genres_remake',\n",
       "       'original_language_remake', 'production_companies_remake',\n",
       "       'production_countries_remake'],\n",
       "      dtype='object')"
      ]
     },
     "execution_count": 19,
     "metadata": {},
     "output_type": "execute_result"
    }
   ],
   "source": [
    "tmdb_complete_df.columns"
   ]
  },
  {
   "cell_type": "markdown",
   "id": "47b0176a",
   "metadata": {},
   "source": [
    "Saving this dataframe to a file."
   ]
  },
  {
   "cell_type": "code",
   "execution_count": 20,
   "id": "83b80007",
   "metadata": {},
   "outputs": [],
   "source": [
    "tmdb_complete_df.to_csv(\"remakes_tmdb_data.csv\")"
   ]
  }
 ],
 "metadata": {
  "kernelspec": {
   "display_name": "Python 3 (ipykernel)",
   "language": "python",
   "name": "python3"
  },
  "language_info": {
   "codemirror_mode": {
    "name": "ipython",
    "version": 3
   },
   "file_extension": ".py",
   "mimetype": "text/x-python",
   "name": "python",
   "nbconvert_exporter": "python",
   "pygments_lexer": "ipython3",
   "version": "3.9.12"
  }
 },
 "nbformat": 4,
 "nbformat_minor": 5
}
